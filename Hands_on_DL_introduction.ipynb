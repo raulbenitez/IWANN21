{
  "nbformat": 4,
  "nbformat_minor": 0,
  "metadata": {
    "colab": {
      "name": "Hands on DL introduction.ipynb",
      "provenance": [],
      "authorship_tag": "ABX9TyOrNV93ckAm9Xg/fmZKuv9I",
      "include_colab_link": true
    },
    "kernelspec": {
      "name": "python3",
      "display_name": "Python 3"
    },
    "language_info": {
      "name": "python"
    }
  },
  "cells": [
    {
      "cell_type": "markdown",
      "metadata": {
        "id": "view-in-github",
        "colab_type": "text"
      },
      "source": [
        "<a href=\"https://colab.research.google.com/github/raulbenitez/IWANN21/blob/main/Hands_on_DL_introduction.ipynb\" target=\"_parent\"><img src=\"https://colab.research.google.com/assets/colab-badge.svg\" alt=\"Open In Colab\"/></a>"
      ]
    },
    {
      "cell_type": "code",
      "metadata": {
        "id": "oMAF_TpMui-H"
      },
      "source": [
        ""
      ],
      "execution_count": null,
      "outputs": []
    },
    {
      "cell_type": "markdown",
      "metadata": {
        "id": "CPsMnrFiujdJ"
      },
      "source": [
        "Deep Learning in Python: A hands-on introduction\n",
        "\n",
        "\n",
        "\n",
        "\n",
        "Contents:\n",
        "\n",
        "1. General introduction: ML vs DL\n",
        "2. DL environtment and libraries: Google colab & Keras/Tensorflow\n",
        "3. The network architecture: convolutional-CNN, recurrent-LSTM, Basic elements, layers, trainable parameters, etc. \n",
        "4. Data preprocessing: Normalization, reshaping, encoding target class variable\n",
        "5. Train/fit model: Train full model, transfer learning, data aumentation techiques. Tensorboard to monitor training. \n",
        "6. Prediction\n",
        "7. Validation & overfitting\n",
        "8. Applications: \n",
        "\n",
        "- Image classification https://keras.io/examples/vision/mnist_convnet/\n",
        "\n",
        "- Image segmentation https://keras.io/examples/vision/oxford_pets_image_segmentation/\n",
        "\n",
        "- Anomaly detection in time signals\n",
        "\n",
        "- Time series forecasting: https://keras.io/examples/timeseries/timeseries_weather_forecasting/\n",
        "\n",
        "\n",
        "\n",
        "References:\n",
        "- Keras documentation https://keras.io/about/\n",
        "- Deep Learning with Python by Francois Chollet (Manning Publications)\n",
        "Source code: https://github.com/fchollet/deep-learning-with-python-notebooks \n",
        "\n"
      ]
    }
  ]
}