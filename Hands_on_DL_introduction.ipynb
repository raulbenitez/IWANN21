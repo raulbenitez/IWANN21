{
  "nbformat": 4,
  "nbformat_minor": 0,
  "metadata": {
    "colab": {
      "name": "Hands on DL introduction.ipynb",
      "provenance": [],
      "authorship_tag": "ABX9TyP28J4jj/gJmWKE6xHBwVls",
      "include_colab_link": true
    },
    "kernelspec": {
      "name": "python3",
      "display_name": "Python 3"
    },
    "language_info": {
      "name": "python"
    }
  },
  "cells": [
    {
      "cell_type": "markdown",
      "metadata": {
        "id": "view-in-github",
        "colab_type": "text"
      },
      "source": [
        "<a href=\"https://colab.research.google.com/github/raulbenitez/IWANN21/blob/main/Hands_on_DL_introduction.ipynb\" target=\"_parent\"><img src=\"https://colab.research.google.com/assets/colab-badge.svg\" alt=\"Open In Colab\"/></a>"
      ]
    },
    {
      "cell_type": "code",
      "metadata": {
        "id": "oMAF_TpMui-H"
      },
      "source": [
        ""
      ],
      "execution_count": null,
      "outputs": []
    },
    {
      "cell_type": "markdown",
      "metadata": {
        "id": "CPsMnrFiujdJ"
      },
      "source": [
        "Deep Learning in Python: A hands-on introduction\n",
        "\n",
        "\n",
        "\n",
        "- Image classification https://keras.io/examples/vision/mnist_convnet/\n",
        "- Image segmentation https://keras.io/examples/vision/oxford_pets_image_segmentation/\n",
        "- Anomaly detection in time signals\n",
        "- Time series forecasting: https://keras.io/examples/timeseries/timeseries_weather_forecasting/\n",
        "\n",
        "\n",
        "Contents:\n",
        "\n",
        "- General introduction: ML vs DL\n",
        "- DL environtment and libraries: Google colab & Keras\n",
        "- The network architecture: CNN, LSTM, Basic elements, layers, trainable parameters, etc. \n",
        "- Data preprocessing: Normalization, encoding target class variable\n",
        "- Train/fit model: Train full model, transfer learning, data aumentation techiques. \n",
        "- Predict\n",
        "- Validation & overfitting\n",
        "\n",
        "\n",
        "\n",
        "\n",
        "\n"
      ]
    }
  ]
}