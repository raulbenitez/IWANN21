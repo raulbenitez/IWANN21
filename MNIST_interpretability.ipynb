{
  "nbformat": 4,
  "nbformat_minor": 0,
  "metadata": {
    "colab": {
      "name": "MNIST_interpretability.ipynb",
      "provenance": [],
      "toc_visible": true,
      "authorship_tag": "ABX9TyMlklQpW6i28mGU+yNYzg/J",
      "include_colab_link": true
    },
    "kernelspec": {
      "name": "python3",
      "display_name": "Python 3"
    },
    "language_info": {
      "name": "python"
    }
  },
  "cells": [
    {
      "cell_type": "markdown",
      "metadata": {
        "id": "view-in-github",
        "colab_type": "text"
      },
      "source": [
        "<a href=\"https://colab.research.google.com/github/raulbenitez/IWANN21/blob/main/MNIST_interpretability.ipynb\" target=\"_parent\"><img src=\"https://colab.research.google.com/assets/colab-badge.svg\" alt=\"Open In Colab\"/></a>"
      ]
    },
    {
      "cell_type": "code",
      "metadata": {
        "colab": {
          "base_uri": "https://localhost:8080/"
        },
        "id": "zCwLTAMLo8uo",
        "outputId": "1fd6fde0-3ebd-403d-e8d4-4d03137c1a2d"
      },
      "source": [
        "from google.colab import drive\n",
        "drive.mount('/content/drive')"
      ],
      "execution_count": 1,
      "outputs": [
        {
          "output_type": "stream",
          "text": [
            "Drive already mounted at /content/drive; to attempt to forcibly remount, call drive.mount(\"/content/drive\", force_remount=True).\n"
          ],
          "name": "stdout"
        }
      ]
    },
    {
      "cell_type": "code",
      "metadata": {
        "colab": {
          "base_uri": "https://localhost:8080/"
        },
        "id": "UC8wLwouhGR8",
        "outputId": "7ed78455-ce59-4f8c-8b62-935be7261c83"
      },
      "source": [
        "import numpy as np\n",
        "import tensorflow as tf\n",
        "\n",
        "from tensorflow.keras.datasets import mnist\n",
        "from tensorflow.keras.models import Sequential, Model\n",
        "from tensorflow.keras.layers import Dense, Dropout, Flatten, Activation, Input\n",
        "from tensorflow.keras.layers import Conv2D, MaxPooling2D\n",
        "from tensorflow.keras import backend as K\n",
        "\n",
        "batch_size = 128\n",
        "num_classes = 10\n",
        "epochs = 5\n",
        "\n",
        "# input image dimensions\n",
        "img_rows, img_cols = 28, 28\n",
        "\n",
        "# the data, shuffled and split between train and test sets\n",
        "(x_train, y_train), (x_test, y_test) = mnist.load_data()\n",
        "\n",
        "if K.image_data_format() == 'channels_first':\n",
        "    x_train = x_train.reshape(x_train.shape[0], 1, img_rows, img_cols)\n",
        "    x_test = x_test.reshape(x_test.shape[0], 1, img_rows, img_cols)\n",
        "    input_shape = (1, img_rows, img_cols)\n",
        "else:\n",
        "    x_train = x_train.reshape(x_train.shape[0], img_rows, img_cols, 1)\n",
        "    x_test = x_test.reshape(x_test.shape[0], img_rows, img_cols, 1)\n",
        "    input_shape = (img_rows, img_cols, 1)\n",
        "\n",
        "x_train = x_train.astype('float32')\n",
        "x_test = x_test.astype('float32')\n",
        "x_train /= 255\n",
        "x_test /= 255\n",
        "print('x_train shape:', x_train.shape)\n",
        "print(x_train.shape[0], 'train samples')\n",
        "print(x_test.shape[0], 'test samples')\n",
        "\n",
        "# convert class vectors to binary class matrices\n",
        "y_train = keras.utils.to_categorical(y_train, num_classes)\n",
        "y_test = keras.utils.to_categorical(y_test, num_classes)\n",
        "\n",
        "model = Sequential()\n",
        "model.add(Conv2D(32, kernel_size=(3, 3),\n",
        "                 activation='relu',\n",
        "                 input_shape=input_shape))\n",
        "model.add(Conv2D(64, (3, 3), activation='relu'))\n",
        "model.add(MaxPooling2D(pool_size=(2, 2)))\n",
        "model.add(Dropout(0.25))\n",
        "model.add(Flatten())\n",
        "model.add(Dense(128, activation='relu'))\n",
        "model.add(Dropout(0.5))\n",
        "model.add(Dense(num_classes, activation='softmax', name='preds'))\n",
        "\n",
        "model.compile(loss=keras.losses.categorical_crossentropy,\n",
        "              optimizer=keras.optimizers.Adam(),\n",
        "              metrics=['accuracy'])\n",
        "\n",
        "model.fit(x_train, y_train,\n",
        "          batch_size=batch_size,\n",
        "          epochs=epochs,\n",
        "          verbose=1,\n",
        "          validation_data=(x_test, y_test))\n",
        "\n",
        "score = model.evaluate(x_test, y_test, verbose=0)\n",
        "print('Test loss:', score[0])\n",
        "print('Test accuracy:', score[1])"
      ],
      "execution_count": 39,
      "outputs": [
        {
          "output_type": "stream",
          "text": [
            "x_train shape: (60000, 28, 28, 1)\n",
            "60000 train samples\n",
            "10000 test samples\n",
            "Epoch 1/5\n",
            "469/469 [==============================] - 160s 341ms/step - loss: 0.2459 - accuracy: 0.9258 - val_loss: 0.0548 - val_accuracy: 0.9818\n",
            "Epoch 2/5\n",
            "469/469 [==============================] - 159s 339ms/step - loss: 0.0895 - accuracy: 0.9734 - val_loss: 0.0410 - val_accuracy: 0.9863\n",
            "Epoch 3/5\n",
            "469/469 [==============================] - 159s 340ms/step - loss: 0.0665 - accuracy: 0.9800 - val_loss: 0.0412 - val_accuracy: 0.9860\n",
            "Epoch 4/5\n",
            "469/469 [==============================] - 158s 336ms/step - loss: 0.0547 - accuracy: 0.9834 - val_loss: 0.0333 - val_accuracy: 0.9886\n",
            "Epoch 5/5\n",
            "469/469 [==============================] - 157s 335ms/step - loss: 0.0481 - accuracy: 0.9848 - val_loss: 0.0282 - val_accuracy: 0.9912\n",
            "Test loss: 0.02820870652794838\n",
            "Test accuracy: 0.9911999702453613\n"
          ],
          "name": "stdout"
        }
      ]
    },
    {
      "cell_type": "markdown",
      "metadata": {
        "id": "ka-ONr8T-WAZ"
      },
      "source": [
        "Model summary"
      ]
    },
    {
      "cell_type": "code",
      "metadata": {
        "colab": {
          "base_uri": "https://localhost:8080/"
        },
        "id": "k_L-wgzQ-W2Z",
        "outputId": "01bb9e7f-9d47-42d2-9dcf-365393f8ad46"
      },
      "source": [
        "model.summary()"
      ],
      "execution_count": 75,
      "outputs": [
        {
          "output_type": "stream",
          "text": [
            "Model: \"sequential_1\"\n",
            "_________________________________________________________________\n",
            "Layer (type)                 Output Shape              Param #   \n",
            "=================================================================\n",
            "conv2d (Conv2D)              (None, 26, 26, 32)        320       \n",
            "_________________________________________________________________\n",
            "conv2d_1 (Conv2D)            (None, 24, 24, 64)        18496     \n",
            "_________________________________________________________________\n",
            "max_pooling2d (MaxPooling2D) (None, 12, 12, 64)        0         \n",
            "_________________________________________________________________\n",
            "dropout (Dropout)            (None, 12, 12, 64)        0         \n",
            "_________________________________________________________________\n",
            "flatten (Flatten)            (None, 9216)              0         \n",
            "_________________________________________________________________\n",
            "dense (Dense)                (None, 128)               1179776   \n",
            "_________________________________________________________________\n",
            "dropout_1 (Dropout)          (None, 128)               0         \n",
            "_________________________________________________________________\n",
            "preds (Dense)                (None, 10)                1290      \n",
            "=================================================================\n",
            "Total params: 1,199,882\n",
            "Trainable params: 1,199,882\n",
            "Non-trainable params: 0\n",
            "_________________________________________________________________\n"
          ],
          "name": "stdout"
        }
      ]
    },
    {
      "cell_type": "markdown",
      "metadata": {
        "id": "wPrY81LeouSx"
      },
      "source": [
        "Save the weights"
      ]
    },
    {
      "cell_type": "code",
      "metadata": {
        "colab": {
          "base_uri": "https://localhost:8080/"
        },
        "id": "rfHPYBCWovRj",
        "outputId": "268bd292-0202-4fcd-e02d-05b498b9c4e6"
      },
      "source": [
        "model.save('/content/drive/MyDrive/DL_IWANN_data/MNIST_model_interpretability')"
      ],
      "execution_count": 40,
      "outputs": [
        {
          "output_type": "stream",
          "text": [
            "INFO:tensorflow:Assets written to: /content/drive/MyDrive/DL_IWANN_data/MNIST_model_interpretability/assets\n"
          ],
          "name": "stdout"
        }
      ]
    },
    {
      "cell_type": "markdown",
      "metadata": {
        "id": "WH8CznGmpu4N"
      },
      "source": [
        "Load the saved model"
      ]
    },
    {
      "cell_type": "code",
      "metadata": {
        "id": "e3ISLTfJph0h"
      },
      "source": [
        "model = keras.models.load_model('/content/drive/MyDrive/DL_IWANN_data/MNIST_model_interpretability')"
      ],
      "execution_count": 54,
      "outputs": []
    },
    {
      "cell_type": "markdown",
      "metadata": {
        "id": "nFevqkAswEkT"
      },
      "source": [
        "Check dimensions of all convolutional layers in the architecture"
      ]
    },
    {
      "cell_type": "code",
      "metadata": {
        "colab": {
          "base_uri": "https://localhost:8080/"
        },
        "id": "5EyM19fgwH_Y",
        "outputId": "fd620b47-2e1f-48cb-e2fc-94ea22ae81b1"
      },
      "source": [
        "for layer in model.layers:\n",
        "\tif 'conv' not in layer.name:\n",
        "\t\tcontinue\n",
        "\tfilters, biases = layer.get_weights()\n",
        "\tprint(layer.name, filters.shape)"
      ],
      "execution_count": 55,
      "outputs": [
        {
          "output_type": "stream",
          "text": [
            "conv2d (3, 3, 1, 32)\n",
            "conv2d_1 (3, 3, 32, 64)\n"
          ],
          "name": "stdout"
        }
      ]
    },
    {
      "cell_type": "markdown",
      "metadata": {
        "id": "10hwsDL2wNuB"
      },
      "source": [
        "## Visualize filters weights"
      ]
    },
    {
      "cell_type": "code",
      "metadata": {
        "id": "3GpHvGjAwQnz"
      },
      "source": [
        "filters, biases = model.layers[0].get_weights()\n",
        "from matplotlib import pyplot\n",
        "\n",
        "# normalize filter values to 0-1 so we can visualize them\n",
        "f_min, f_max = filters.min(), filters.max()\n",
        "filters = (filters - f_min) / (f_max - f_min)\n",
        "\n",
        "filters.shape\n",
        "filters1 = filters.squeeze()"
      ],
      "execution_count": 56,
      "outputs": []
    },
    {
      "cell_type": "markdown",
      "metadata": {
        "id": "PtWifAz1wyff"
      },
      "source": [
        "In the first convolutional layer there are 32 filters, each of size 3x3\n"
      ]
    },
    {
      "cell_type": "code",
      "metadata": {
        "colab": {
          "base_uri": "https://localhost:8080/",
          "height": 482
        },
        "id": "1E3_bsGNwyoy",
        "outputId": "df37827f-31db-403f-f4db-763cdca86a6e"
      },
      "source": [
        "import matplotlib.pyplot as plt\n",
        "\n",
        "fig = plt.figure(figsize=(18, 8))\n",
        "for kfilt in range(0,32):\n",
        "    ax = fig.add_subplot(4, 8, kfilt+1)\n",
        "    ax.imshow(filters1[:,:,kfilt], cmap='gray') \n",
        "    ax.set_title('Filter = {}'.format(kfilt))\n",
        "    ax.axis('off')"
      ],
      "execution_count": 57,
      "outputs": [
        {
          "output_type": "display_data",
          "data": {
            "image/png": "[encoded data removed]",
            "text/plain": [
              "<Figure size 1296x576 with 32 Axes>"
            ]
          },
          "metadata": {
            "tags": [],
            "needs_background": "light"
          }
        }
      ]
    },
    {
      "cell_type": "markdown",
      "metadata": {
        "id": "wH3O1d0XlUrq"
      },
      "source": [
        "## Vizualize the feature maps \n",
        "\n",
        "Feature maps are the result of projecting an inpunt image across the different convolutional filters in the convolutional layers of the CNN."
      ]
    },
    {
      "cell_type": "code",
      "metadata": {
        "colab": {
          "base_uri": "https://localhost:8080/"
        },
        "id": "bNsP1vssk8q3",
        "outputId": "3bdcc3b7-f76b-4912-dac7-966784d8d2f2"
      },
      "source": [
        "from tensorflow.keras.models import Model\n",
        "\n",
        "# define a new model with outputs the first layer\n",
        "model_feat_layer0  = Model(inputs=model.inputs, outputs=model.layers[0].output)\n",
        "model_feat_layer0.summary()\n",
        "\n",
        "# extract the features provided by the model of the test input\n",
        "feat_test_layer0 = model_feat_layer0.predict(x_test)\n",
        "\n",
        "print('layer 0 shape {}'.format(feat_test_layer0.shape))"
      ],
      "execution_count": 58,
      "outputs": [
        {
          "output_type": "stream",
          "text": [
            "Model: \"model_1\"\n",
            "_________________________________________________________________\n",
            "Layer (type)                 Output Shape              Param #   \n",
            "=================================================================\n",
            "conv2d_input (InputLayer)    [(None, 28, 28, 1)]       0         \n",
            "_________________________________________________________________\n",
            "conv2d (Conv2D)              (None, 26, 26, 32)        320       \n",
            "=================================================================\n",
            "Total params: 320\n",
            "Trainable params: 320\n",
            "Non-trainable params: 0\n",
            "_________________________________________________________________\n",
            "layer 0 shape (10000, 26, 26, 32)\n"
          ],
          "name": "stdout"
        }
      ]
    },
    {
      "cell_type": "markdown",
      "metadata": {
        "id": "Mw4XWXd3l1rX"
      },
      "source": [
        "plot the feature maps corresponding to the first image in the test subset, which in this case corresponds to a"
      ]
    },
    {
      "cell_type": "code",
      "metadata": {
        "colab": {
          "base_uri": "https://localhost:8080/"
        },
        "id": "y2eIYyianrNj",
        "outputId": "b3338b86-65b8-4d19-e37e-8f767e9fe176"
      },
      "source": [
        "np.argmax(y_test[0])"
      ],
      "execution_count": 59,
      "outputs": [
        {
          "output_type": "execute_result",
          "data": {
            "text/plain": [
              "7"
            ]
          },
          "metadata": {
            "tags": []
          },
          "execution_count": 59
        }
      ]
    },
    {
      "cell_type": "code",
      "metadata": {
        "colab": {
          "base_uri": "https://localhost:8080/",
          "height": 482
        },
        "id": "nXmAXF75l7ep",
        "outputId": "81f6cadb-fc7e-4076-e8d7-888d86a104c0"
      },
      "source": [
        "import matplotlib.pyplot as plt\n",
        "\n",
        "fig = plt.figure(figsize=(18, 8))\n",
        "for kfeat in range(0,32):\n",
        "    ax = fig.add_subplot(4, 8, kfeat+1)\n",
        "    ax.imshow(feat_test_layer0[0,:,:,kfeat], cmap='gray') \n",
        "    ax.set_title('Convolution = {}'.format(kfeat))\n",
        "    ax.axis('off')"
      ],
      "execution_count": 60,
      "outputs": [
        {
          "output_type": "display_data",
          "data": {
            "image/png": "[encoded data removed]",
            "text/plain": [
              "<Figure size 1296x576 with 32 Axes>"
            ]
          },
          "metadata": {
            "tags": [],
            "needs_background": "light"
          }
        }
      ]
    },
    {
      "cell_type": "markdown",
      "metadata": {
        "id": "aoufqhwFk9Hv"
      },
      "source": [
        "## Activation Maximization\n",
        "\n",
        "https://raghakot.github.io/keras-vis/visualizations/activation_maximization/\n",
        "\n",
        "Generate an input image that maximizes the filter output activations. i.e., we compute\n",
        "\n",
        "$\\frac{\\partial ActivationMaximizationLoss}{\\partial input}$ \n",
        "\n",
        "and use that estimate to update the input. ActivationMaximization loss simply outputs small values for large filter activations (we are minimizing losses during gradient descent iterations). This allows us to understand what sort of input patterns activate a particular filter. For example, there could be an eye filter that activates for the presence of eye within the input image."
      ]
    },
    {
      "cell_type": "markdown",
      "metadata": {
        "id": "-6AKnUA5yfuv"
      },
      "source": [
        "Change final activation layer from softmax to linear"
      ]
    },
    {
      "cell_type": "code",
      "metadata": {
        "id": "kw6mt-lW9mJi"
      },
      "source": [
        "from tf_keras_vis.activation_maximization import ActivationMaximization\n",
        "\n",
        "\n",
        "def model_modifier(current_model):\n",
        "    current_model.layers[-1].activation = tf.keras.activations.linear\n",
        "    return current_model\n",
        "\n",
        "activation_maximization = ActivationMaximization(model,\n",
        "                                                 model_modifier,\n",
        "                                                 clone=False)"
      ],
      "execution_count": 132,
      "outputs": []
    },
    {
      "cell_type": "markdown",
      "metadata": {
        "id": "oiAkPzFv_kbB"
      },
      "source": [
        "Score function to maximize a certain category"
      ]
    },
    {
      "cell_type": "code",
      "metadata": {
        "id": "2wv3YmSE_lKA"
      },
      "source": [
        "from tf_keras_vis.utils.scores import CategoricalScore\n",
        "\n",
        "class_score = 7\n",
        "score = CategoricalScore(class_score)"
      ],
      "execution_count": 133,
      "outputs": []
    },
    {
      "cell_type": "code",
      "metadata": {
        "colab": {
          "base_uri": "https://localhost:8080/"
        },
        "id": "MxhCHRnl_7X1",
        "outputId": "8de5a271-72a9-4a8f-b8a0-b5972a6e69c8"
      },
      "source": [
        "from tf_keras_vis.activation_maximization.callbacks import PrintLogger as Logger\n",
        "from tf_keras_vis.activation_maximization.callbacks import GifGenerator2D\n",
        "\n",
        "# Generate maximized activation\n",
        "activations = activation_maximization(score,callbacks=[Logger(interval=50)])"
      ],
      "execution_count": 134,
      "outputs": [
        {
          "output_type": "stream",
          "text": [
            "Steps: 050\tScores: [[0.2742422819137573]],\tRegularizations: [('TotalVariation2D', [4.359673500061035]), ('Norm', [3.313643455505371])]\n",
            "Steps: 100\tScores: [[0.2752305567264557]],\tRegularizations: [('TotalVariation2D', [4.0449323654174805]), ('Norm', [2.435117483139038])]\n",
            "Steps: 150\tScores: [[0.26490145921707153]],\tRegularizations: [('TotalVariation2D', [7.138841152191162]), ('Norm', [1.6738179922103882])]\n",
            "Steps: 200\tScores: [[0.24463032186031342]],\tRegularizations: [('TotalVariation2D', [4.363053798675537]), ('Norm', [1.3619521856307983])]\n"
          ],
          "name": "stdout"
        }
      ]
    },
    {
      "cell_type": "code",
      "metadata": {
        "colab": {
          "base_uri": "https://localhost:8080/",
          "height": 297
        },
        "id": "tqvIsH0-CiyU",
        "outputId": "aa0e74e4-cf19-4da8-c2d2-f565f99c9bf5"
      },
      "source": [
        "# Visualize \n",
        "\n",
        "class_names = ['zero', 'one', 'two', 'three', 'four', 'five', 'six', 'seven', 'eight', 'nine']\n",
        "\n",
        "f, ax = plt.subplots(figsize=(4, 4))\n",
        "ax.imshow(activations.squeeze())\n",
        "ax.set_title(class_names[class_score], fontsize=16)\n",
        "ax.axis('off')\n",
        "plt.tight_layout()\n",
        "plt.show()"
      ],
      "execution_count": 135,
      "outputs": [
        {
          "output_type": "display_data",
          "data": {
            "image/png": "[encoded data removed]",
            "text/plain": [
              "<Figure size 288x288 with 1 Axes>"
            ]
          },
          "metadata": {
            "tags": [],
            "needs_background": "light"
          }
        }
      ]
    },
    {
      "cell_type": "markdown",
      "metadata": {
        "id": "0feFWkPEE72c"
      },
      "source": [
        "# "
      ]
    }
  ]
}