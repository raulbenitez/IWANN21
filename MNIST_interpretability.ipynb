{
  "nbformat": 4,
  "nbformat_minor": 0,
  "metadata": {
    "colab": {
      "name": "MNIST_interpretability.ipynb",
      "provenance": [],
      "toc_visible": true,
      "authorship_tag": "ABX9TyPttSaLopeTdk5xcxUlfpN9",
      "include_colab_link": true
    },
    "kernelspec": {
      "name": "python3",
      "display_name": "Python 3"
    },
    "language_info": {
      "name": "python"
    }
  },
  "cells": [
    {
      "cell_type": "markdown",
      "metadata": {
        "id": "view-in-github",
        "colab_type": "text"
      },
      "source": [
        "<a href=\"https://colab.research.google.com/github/raulbenitez/IWANN21/blob/main/MNIST_interpretability.ipynb\" target=\"_parent\"><img src=\"https://colab.research.google.com/assets/colab-badge.svg\" alt=\"Open In Colab\"/></a>"
      ]
    },
    {
      "cell_type": "code",
      "metadata": {
        "colab": {
          "base_uri": "https://localhost:8080/"
        },
        "id": "zCwLTAMLo8uo",
        "outputId": "1fd6fde0-3ebd-403d-e8d4-4d03137c1a2d"
      },
      "source": [
        "from google.colab import drive\n",
        "drive.mount('/content/drive')"
      ],
      "execution_count": 1,
      "outputs": [
        {
          "output_type": "stream",
          "text": [
            "Drive already mounted at /content/drive; to attempt to forcibly remount, call drive.mount(\"/content/drive\", force_remount=True).\n"
          ],
          "name": "stdout"
        }
      ]
    },
    {
      "cell_type": "code",
      "metadata": {
        "colab": {
          "base_uri": "https://localhost:8080/"
        },
        "id": "UC8wLwouhGR8",
        "outputId": "7ed78455-ce59-4f8c-8b62-935be7261c83"
      },
      "source": [
        "import numpy as np\n",
        "import tensorflow as tf\n",
        "\n",
        "from tensorflow.keras.datasets import mnist\n",
        "from tensorflow.keras.models import Sequential, Model\n",
        "from tensorflow.keras.layers import Dense, Dropout, Flatten, Activation, Input\n",
        "from tensorflow.keras.layers import Conv2D, MaxPooling2D\n",
        "from tensorflow.keras import backend as K\n",
        "\n",
        "batch_size = 128\n",
        "num_classes = 10\n",
        "epochs = 5\n",
        "\n",
        "# input image dimensions\n",
        "img_rows, img_cols = 28, 28\n",
        "\n",
        "# the data, shuffled and split between train and test sets\n",
        "(x_train, y_train), (x_test, y_test) = mnist.load_data()\n",
        "\n",
        "if K.image_data_format() == 'channels_first':\n",
        "    x_train = x_train.reshape(x_train.shape[0], 1, img_rows, img_cols)\n",
        "    x_test = x_test.reshape(x_test.shape[0], 1, img_rows, img_cols)\n",
        "    input_shape = (1, img_rows, img_cols)\n",
        "else:\n",
        "    x_train = x_train.reshape(x_train.shape[0], img_rows, img_cols, 1)\n",
        "    x_test = x_test.reshape(x_test.shape[0], img_rows, img_cols, 1)\n",
        "    input_shape = (img_rows, img_cols, 1)\n",
        "\n",
        "x_train = x_train.astype('float32')\n",
        "x_test = x_test.astype('float32')\n",
        "x_train /= 255\n",
        "x_test /= 255\n",
        "print('x_train shape:', x_train.shape)\n",
        "print(x_train.shape[0], 'train samples')\n",
        "print(x_test.shape[0], 'test samples')\n",
        "\n",
        "# convert class vectors to binary class matrices\n",
        "y_train = keras.utils.to_categorical(y_train, num_classes)\n",
        "y_test = keras.utils.to_categorical(y_test, num_classes)\n",
        "\n",
        "model = Sequential()\n",
        "model.add(Conv2D(32, kernel_size=(3, 3),\n",
        "                 activation='relu',\n",
        "                 input_shape=input_shape))\n",
        "model.add(Conv2D(64, (3, 3), activation='relu'))\n",
        "model.add(MaxPooling2D(pool_size=(2, 2)))\n",
        "model.add(Dropout(0.25))\n",
        "model.add(Flatten())\n",
        "model.add(Dense(128, activation='relu'))\n",
        "model.add(Dropout(0.5))\n",
        "model.add(Dense(num_classes, activation='softmax', name='preds'))\n",
        "\n",
        "model.compile(loss=keras.losses.categorical_crossentropy,\n",
        "              optimizer=keras.optimizers.Adam(),\n",
        "              metrics=['accuracy'])\n",
        "\n",
        "model.fit(x_train, y_train,\n",
        "          batch_size=batch_size,\n",
        "          epochs=epochs,\n",
        "          verbose=1,\n",
        "          validation_data=(x_test, y_test))\n",
        "\n",
        "score = model.evaluate(x_test, y_test, verbose=0)\n",
        "print('Test loss:', score[0])\n",
        "print('Test accuracy:', score[1])"
      ],
      "execution_count": 39,
      "outputs": [
        {
          "output_type": "stream",
          "text": [
            "x_train shape: (60000, 28, 28, 1)\n",
            "60000 train samples\n",
            "10000 test samples\n",
            "Epoch 1/5\n",
            "469/469 [==============================] - 160s 341ms/step - loss: 0.2459 - accuracy: 0.9258 - val_loss: 0.0548 - val_accuracy: 0.9818\n",
            "Epoch 2/5\n",
            "469/469 [==============================] - 159s 339ms/step - loss: 0.0895 - accuracy: 0.9734 - val_loss: 0.0410 - val_accuracy: 0.9863\n",
            "Epoch 3/5\n",
            "469/469 [==============================] - 159s 340ms/step - loss: 0.0665 - accuracy: 0.9800 - val_loss: 0.0412 - val_accuracy: 0.9860\n",
            "Epoch 4/5\n",
            "469/469 [==============================] - 158s 336ms/step - loss: 0.0547 - accuracy: 0.9834 - val_loss: 0.0333 - val_accuracy: 0.9886\n",
            "Epoch 5/5\n",
            "469/469 [==============================] - 157s 335ms/step - loss: 0.0481 - accuracy: 0.9848 - val_loss: 0.0282 - val_accuracy: 0.9912\n",
            "Test loss: 0.02820870652794838\n",
            "Test accuracy: 0.9911999702453613\n"
          ],
          "name": "stdout"
        }
      ]
    },
    {
      "cell_type": "code",
      "metadata": {
        "colab": {
          "base_uri": "https://localhost:8080/"
        },
        "id": "UjMTU6dkLthT",
        "outputId": "c1b04046-9d3f-439c-b7fc-5a1ceedc536e"
      },
      "source": [
        "# Create the model\n",
        "model = Sequential()\n",
        "model.add(Conv2D(32, kernel_size=(3, 3), activation='relu', input_shape=input_shape))\n",
        "model.add(MaxPooling2D(pool_size=(2, 2)))\n",
        "model.add(Dropout(0.25))\n",
        "model.add(Flatten())\n",
        "model.add(Dense(256, activation='relu'))\n",
        "model.add(Dense(num_classes, activation='softmax', name='pred'))\n",
        "\n",
        "# Compile the model\n",
        "model.compile(loss=keras.losses.categorical_crossentropy,\n",
        "              optimizer=keras.optimizers.Adam(),\n",
        "              metrics=['accuracy'])\n",
        "\n",
        "batch_size = 250\n",
        "no_epochs = 1\n",
        "# Fit data to model\n",
        "model.fit(x_train, y_train,\n",
        "          batch_size=batch_size,\n",
        "          epochs=no_epochs)\n",
        "\n",
        "score = model.evaluate(x_test, y_test, verbose=0)\n",
        "print(f'Test loss: {score[0]} / Test accuracy: {score[1]}')\n",
        "\n"
      ],
      "execution_count": 162,
      "outputs": [
        {
          "output_type": "stream",
          "text": [
            "240/240 [==============================] - 36s 146ms/step - loss: 0.2585 - accuracy: 0.9268\n",
            "Test loss: 0.09228898584842682 / Test accuracy: 0.9731000065803528\n"
          ],
          "name": "stdout"
        }
      ]
    },
    {
      "cell_type": "markdown",
      "metadata": {
        "id": "ka-ONr8T-WAZ"
      },
      "source": [
        "Model summary"
      ]
    },
    {
      "cell_type": "code",
      "metadata": {
        "colab": {
          "base_uri": "https://localhost:8080/"
        },
        "id": "k_L-wgzQ-W2Z",
        "outputId": "866ce34f-2bd4-4597-fd1f-057f01632f39"
      },
      "source": [
        "model.summary()"
      ],
      "execution_count": 163,
      "outputs": [
        {
          "output_type": "stream",
          "text": [
            "Model: \"sequential_7\"\n",
            "_________________________________________________________________\n",
            "Layer (type)                 Output Shape              Param #   \n",
            "=================================================================\n",
            "conv2d_7 (Conv2D)            (None, 26, 26, 32)        320       \n",
            "_________________________________________________________________\n",
            "max_pooling2d_6 (MaxPooling2 (None, 13, 13, 32)        0         \n",
            "_________________________________________________________________\n",
            "dropout_7 (Dropout)          (None, 13, 13, 32)        0         \n",
            "_________________________________________________________________\n",
            "flatten_6 (Flatten)          (None, 5408)              0         \n",
            "_________________________________________________________________\n",
            "dense_6 (Dense)              (None, 256)               1384704   \n",
            "_________________________________________________________________\n",
            "pred (Dense)                 (None, 10)                2570      \n",
            "=================================================================\n",
            "Total params: 1,387,594\n",
            "Trainable params: 1,387,594\n",
            "Non-trainable params: 0\n",
            "_________________________________________________________________\n"
          ],
          "name": "stdout"
        }
      ]
    },
    {
      "cell_type": "markdown",
      "metadata": {
        "id": "wPrY81LeouSx"
      },
      "source": [
        "Save the weights"
      ]
    },
    {
      "cell_type": "code",
      "metadata": {
        "colab": {
          "base_uri": "https://localhost:8080/"
        },
        "id": "rfHPYBCWovRj",
        "outputId": "b86ea699-0122-47f2-9d45-b03505c18d24"
      },
      "source": [
        "model.save('/content/drive/MyDrive/DL_IWANN_data/MNIST_model_interpretability')"
      ],
      "execution_count": 164,
      "outputs": [
        {
          "output_type": "stream",
          "text": [
            "INFO:tensorflow:Assets written to: /content/drive/MyDrive/DL_IWANN_data/MNIST_model_interpretability/assets\n"
          ],
          "name": "stdout"
        }
      ]
    },
    {
      "cell_type": "markdown",
      "metadata": {
        "id": "WH8CznGmpu4N"
      },
      "source": [
        "Load the saved model"
      ]
    },
    {
      "cell_type": "code",
      "metadata": {
        "id": "e3ISLTfJph0h"
      },
      "source": [
        "model = keras.models.load_model('/content/drive/MyDrive/DL_IWANN_data/MNIST_model_interpretability')"
      ],
      "execution_count": 145,
      "outputs": []
    },
    {
      "cell_type": "markdown",
      "metadata": {
        "id": "nFevqkAswEkT"
      },
      "source": [
        "Check dimensions of all convolutional layers in the architecture"
      ]
    },
    {
      "cell_type": "code",
      "metadata": {
        "colab": {
          "base_uri": "https://localhost:8080/"
        },
        "id": "5EyM19fgwH_Y",
        "outputId": "5bdb5f61-d17a-4d3d-fe2d-03fd57818791"
      },
      "source": [
        "for layer in model.layers:\n",
        "\tif 'conv' not in layer.name:\n",
        "\t\tcontinue\n",
        "\tfilters, biases = layer.get_weights()\n",
        "\tprint(layer.name, filters.shape)"
      ],
      "execution_count": 165,
      "outputs": [
        {
          "output_type": "stream",
          "text": [
            "conv2d_7 (3, 3, 1, 32)\n"
          ],
          "name": "stdout"
        }
      ]
    },
    {
      "cell_type": "markdown",
      "metadata": {
        "id": "10hwsDL2wNuB"
      },
      "source": [
        "## Visualize filters weights"
      ]
    },
    {
      "cell_type": "code",
      "metadata": {
        "id": "3GpHvGjAwQnz"
      },
      "source": [
        "filters, biases = model.layers[0].get_weights()\n",
        "from matplotlib import pyplot\n",
        "\n",
        "# normalize filter values to 0-1 so we can visualize them\n",
        "f_min, f_max = filters.min(), filters.max()\n",
        "filters = (filters - f_min) / (f_max - f_min)\n",
        "\n",
        "filters.shape\n",
        "filters1 = filters.squeeze()"
      ],
      "execution_count": 166,
      "outputs": []
    },
    {
      "cell_type": "markdown",
      "metadata": {
        "id": "PtWifAz1wyff"
      },
      "source": [
        "In the first convolutional layer there are 32 filters, each of size 3x3\n"
      ]
    },
    {
      "cell_type": "code",
      "metadata": {
        "colab": {
          "base_uri": "https://localhost:8080/",
          "height": 482
        },
        "id": "1E3_bsGNwyoy",
        "outputId": "eab04679-c1d5-43e0-d3a9-3b11d1cbbd59"
      },
      "source": [
        "import matplotlib.pyplot as plt\n",
        "\n",
        "fig = plt.figure(figsize=(18, 8))\n",
        "for kfilt in range(0,32):\n",
        "    ax = fig.add_subplot(4, 8, kfilt+1)\n",
        "    ax.imshow(filters1[:,:,kfilt], cmap='gray') \n",
        "    ax.set_title('Filter = {}'.format(kfilt))\n",
        "    ax.axis('off')"
      ],
      "execution_count": 167,
      "outputs": [
        {
          "output_type": "display_data",
          "data": {
            "image/png": "[encoded data removed]",
            "text/plain": [
              "<Figure size 1296x576 with 32 Axes>"
            ]
          },
          "metadata": {
            "tags": [],
            "needs_background": "light"
          }
        }
      ]
    },
    {
      "cell_type": "markdown",
      "metadata": {
        "id": "wH3O1d0XlUrq"
      },
      "source": [
        "## Vizualize the feature maps \n",
        "\n",
        "Feature maps are the result of projecting an inpunt image across the different convolutional filters in the convolutional layers of the CNN."
      ]
    },
    {
      "cell_type": "code",
      "metadata": {
        "colab": {
          "base_uri": "https://localhost:8080/"
        },
        "id": "bNsP1vssk8q3",
        "outputId": "b24870f3-160f-4e09-a611-4e0c5d86da45"
      },
      "source": [
        "from tensorflow.keras.models import Model\n",
        "\n",
        "# define a new model with outputs the first layer\n",
        "model_feat_layer0  = Model(inputs=model.inputs, outputs=model.layers[0].output)\n",
        "model_feat_layer0.summary()\n",
        "\n",
        "# extract the features provided by the model of the test input\n",
        "feat_test_layer0 = model_feat_layer0.predict(x_test)\n",
        "\n",
        "print('layer 0 shape {}'.format(feat_test_layer0.shape))"
      ],
      "execution_count": 168,
      "outputs": [
        {
          "output_type": "stream",
          "text": [
            "Model: \"model_6\"\n",
            "_________________________________________________________________\n",
            "Layer (type)                 Output Shape              Param #   \n",
            "=================================================================\n",
            "conv2d_7_input (InputLayer)  [(None, 28, 28, 1)]       0         \n",
            "_________________________________________________________________\n",
            "conv2d_7 (Conv2D)            (None, 26, 26, 32)        320       \n",
            "=================================================================\n",
            "Total params: 320\n",
            "Trainable params: 320\n",
            "Non-trainable params: 0\n",
            "_________________________________________________________________\n",
            "layer 0 shape (10000, 26, 26, 32)\n"
          ],
          "name": "stdout"
        }
      ]
    },
    {
      "cell_type": "markdown",
      "metadata": {
        "id": "Mw4XWXd3l1rX"
      },
      "source": [
        "plot the feature maps corresponding to the first image in the test subset, which in this case corresponds to a"
      ]
    },
    {
      "cell_type": "code",
      "metadata": {
        "colab": {
          "base_uri": "https://localhost:8080/"
        },
        "id": "y2eIYyianrNj",
        "outputId": "a23fce4e-b334-479a-e28c-5c1306675f8d"
      },
      "source": [
        "np.argmax(y_test[0])"
      ],
      "execution_count": 169,
      "outputs": [
        {
          "output_type": "execute_result",
          "data": {
            "text/plain": [
              "7"
            ]
          },
          "metadata": {
            "tags": []
          },
          "execution_count": 169
        }
      ]
    },
    {
      "cell_type": "code",
      "metadata": {
        "colab": {
          "base_uri": "https://localhost:8080/",
          "height": 482
        },
        "id": "nXmAXF75l7ep",
        "outputId": "5c2f6e79-b3e1-4a6d-d5ff-47a56e6ed0ff"
      },
      "source": [
        "import matplotlib.pyplot as plt\n",
        "\n",
        "fig = plt.figure(figsize=(18, 8))\n",
        "for kfeat in range(0,32):\n",
        "    ax = fig.add_subplot(4, 8, kfeat+1)\n",
        "    ax.imshow(feat_test_layer0[0,:,:,kfeat], cmap='gray') \n",
        "    ax.set_title('Convolution = {}'.format(kfeat))\n",
        "    ax.axis('off')"
      ],
      "execution_count": 170,
      "outputs": [
        {
          "output_type": "display_data",
          "data": {
            "image/png": "[encoded data removed]",
            "text/plain": [
              "<Figure size 1296x576 with 32 Axes>"
            ]
          },
          "metadata": {
            "tags": [],
            "needs_background": "light"
          }
        }
      ]
    },
    {
      "cell_type": "markdown",
      "metadata": {
        "id": "aoufqhwFk9Hv"
      },
      "source": [
        "## Activation Maximization\n",
        "\n",
        "https://raghakot.github.io/keras-vis/visualizations/activation_maximization/\n",
        "\n",
        "Generate an input image that maximizes the filter output activations. i.e., we compute\n",
        "\n",
        "$\\frac{\\partial ActivationMaximizationLoss}{\\partial input}$ \n",
        "\n",
        "and use that estimate to update the input. ActivationMaximization loss simply outputs small values for large filter activations (we are minimizing losses during gradient descent iterations). This allows us to understand what sort of input patterns activate a particular filter. For example, there could be an eye filter that activates for the presence of eye within the input image."
      ]
    },
    {
      "cell_type": "markdown",
      "metadata": {
        "id": "-6AKnUA5yfuv"
      },
      "source": [
        "Change final activation layer from softmax to linear"
      ]
    },
    {
      "cell_type": "code",
      "metadata": {
        "id": "kw6mt-lW9mJi"
      },
      "source": [
        "from tf_keras_vis.activation_maximization import ActivationMaximization\n",
        "\n",
        "\n",
        "def model_modifier(current_model):\n",
        "    current_model.layers[-1].activation = tf.keras.activations.linear\n",
        "    return current_model\n",
        "\n",
        "activation_maximization = ActivationMaximization(model,\n",
        "                                                 model_modifier,\n",
        "                                                 clone=False)"
      ],
      "execution_count": 171,
      "outputs": []
    },
    {
      "cell_type": "markdown",
      "metadata": {
        "id": "oiAkPzFv_kbB"
      },
      "source": [
        "Score function to maximize a certain category"
      ]
    },
    {
      "cell_type": "code",
      "metadata": {
        "id": "2wv3YmSE_lKA"
      },
      "source": [
        "from tf_keras_vis.utils.scores import CategoricalScore\n",
        "\n",
        "class_score = 4\n",
        "score = CategoricalScore(class_score)"
      ],
      "execution_count": 175,
      "outputs": []
    },
    {
      "cell_type": "code",
      "metadata": {
        "colab": {
          "base_uri": "https://localhost:8080/"
        },
        "id": "MxhCHRnl_7X1",
        "outputId": "8610de4a-5a17-41bd-dde5-343e17a4418c"
      },
      "source": [
        "from tf_keras_vis.activation_maximization.callbacks import PrintLogger as Logger\n",
        "from tf_keras_vis.activation_maximization.callbacks import GifGenerator2D\n",
        "\n",
        "# Generate maximized activation\n",
        "activations = activation_maximization(score,callbacks=[Logger(interval=50)])"
      ],
      "execution_count": 176,
      "outputs": [
        {
          "output_type": "stream",
          "text": [
            "Steps: 050\tScores: [[-571.4730834960938]],\tRegularizations: [('TotalVariation2D', [8.210187911987305]), ('Norm', [3.7622506618499756])]\n",
            "Steps: 100\tScores: [[-794.421875]],\tRegularizations: [('TotalVariation2D', [12.957816123962402]), ('Norm', [2.8973724842071533])]\n",
            "Steps: 150\tScores: [[-599.6160888671875]],\tRegularizations: [('TotalVariation2D', [9.7456636428833]), ('Norm', [2.0734622478485107])]\n",
            "Steps: 200\tScores: [[-457.22589111328125]],\tRegularizations: [('TotalVariation2D', [8.495113372802734]), ('Norm', [1.207602858543396])]\n"
          ],
          "name": "stdout"
        }
      ]
    },
    {
      "cell_type": "code",
      "metadata": {
        "colab": {
          "base_uri": "https://localhost:8080/",
          "height": 297
        },
        "id": "tqvIsH0-CiyU",
        "outputId": "219986b3-421d-4a57-d396-6331291a81bf"
      },
      "source": [
        "# Visualize \n",
        "class_names = ['zero', 'one', 'two', 'three', 'four', 'five', 'six', 'seven', 'eight', 'nine']\n",
        "\n",
        "f, ax = plt.subplots(figsize=(4, 4))\n",
        "ax.imshow(activations.squeeze())\n",
        "ax.set_title(class_names[class_score], fontsize=16)\n",
        "ax.axis('off')\n",
        "plt.tight_layout()\n",
        "plt.show()"
      ],
      "execution_count": 177,
      "outputs": [
        {
          "output_type": "display_data",
          "data": {
            "image/png": "[encoded data removed]",
            "text/plain": [
              "<Figure size 288x288 with 1 Axes>"
            ]
          },
          "metadata": {
            "tags": [],
            "needs_background": "light"
          }
        }
      ]
    },
    {
      "cell_type": "code",
      "metadata": {
        "colab": {
          "base_uri": "https://localhost:8080/",
          "height": 1000
        },
        "id": "ywB-t2jHJAKq",
        "outputId": "33cddaf3-490f-4e7c-ed7d-393dcd4e8345"
      },
      "source": [
        "fig = plt.figure(figsize=(18, 8))\n",
        "for kclass in range(0,10):\n",
        "    score = CategoricalScore(kclass)\n",
        "    activation_maximization = ActivationMaximization(model,model_modifier,clone=False)\n",
        "    activations = activation_maximization(score,callbacks=[Logger(interval=50)])\n",
        "    ax = fig.add_subplot(2, 5, kclass+1)\n",
        "    ax.imshow(activations.squeeze())\n",
        "    ax.set_title(class_names[kclass], fontsize=16)\n",
        "    ax.axis('off')"
      ],
      "execution_count": 178,
      "outputs": [
        {
          "output_type": "stream",
          "text": [
            "Steps: 050\tScores: [[202.19676208496094]],\tRegularizations: [('TotalVariation2D', [9.352217674255371]), ('Norm', [4.2890448570251465])]\n",
            "Steps: 100\tScores: [[70.74851989746094]],\tRegularizations: [('TotalVariation2D', [8.349319458007812]), ('Norm', [4.089468955993652])]\n",
            "Steps: 150\tScores: [[233.54637145996094]],\tRegularizations: [('TotalVariation2D', [9.0845308303833]), ('Norm', [3.826552391052246])]\n",
            "Steps: 200\tScores: [[259.7192687988281]],\tRegularizations: [('TotalVariation2D', [9.315559387207031]), ('Norm', [3.5517499446868896])]\n",
            "Steps: 050\tScores: [[-552.3934936523438]],\tRegularizations: [('TotalVariation2D', [11.729639053344727]), ('Norm', [4.3247199058532715])]\n",
            "Steps: 100\tScores: [[-432.1877136230469]],\tRegularizations: [('TotalVariation2D', [10.979243278503418]), ('Norm', [4.200002670288086])]\n",
            "Steps: 150\tScores: [[-267.5390319824219]],\tRegularizations: [('TotalVariation2D', [9.955371856689453]), ('Norm', [4.1289567947387695])]\n",
            "Steps: 200\tScores: [[-318.1907958984375]],\tRegularizations: [('TotalVariation2D', [9.475010871887207]), ('Norm', [4.007499694824219])]\n",
            "Steps: 050\tScores: [[371.1735534667969]],\tRegularizations: [('TotalVariation2D', [10.16429328918457]), ('Norm', [4.723630428314209])]\n",
            "Steps: 100\tScores: [[415.10357666015625]],\tRegularizations: [('TotalVariation2D', [16.155271530151367]), ('Norm', [4.9321441650390625])]\n",
            "Steps: 150\tScores: [[282.0089416503906]],\tRegularizations: [('TotalVariation2D', [10.955463409423828]), ('Norm', [5.10886287689209])]\n",
            "Steps: 200\tScores: [[430.6900634765625]],\tRegularizations: [('TotalVariation2D', [13.078824996948242]), ('Norm', [5.214597225189209])]\n",
            "Steps: 050\tScores: [[677.1395874023438]],\tRegularizations: [('TotalVariation2D', [13.618378639221191]), ('Norm', [4.8514323234558105])]\n",
            "Steps: 100\tScores: [[1002.4976196289062]],\tRegularizations: [('TotalVariation2D', [9.305238723754883]), ('Norm', [5.3406572341918945])]\n",
            "Steps: 150\tScores: [[918.0906372070312]],\tRegularizations: [('TotalVariation2D', [14.050150871276855]), ('Norm', [5.858258247375488])]\n",
            "Steps: 200\tScores: [[1046.6605224609375]],\tRegularizations: [('TotalVariation2D', [11.964301109313965]), ('Norm', [6.350538730621338])]\n",
            "Steps: 050\tScores: [[-762.3837280273438]],\tRegularizations: [('TotalVariation2D', [8.365021705627441]), ('Norm', [3.6675004959106445])]\n",
            "Steps: 100\tScores: [[-935.0405883789062]],\tRegularizations: [('TotalVariation2D', [9.509796142578125]), ('Norm', [2.8122997283935547])]\n",
            "Steps: 150\tScores: [[-407.7914733886719]],\tRegularizations: [('TotalVariation2D', [11.981841087341309]), ('Norm', [1.9911177158355713])]\n",
            "Steps: 200\tScores: [[-280.5719299316406]],\tRegularizations: [('TotalVariation2D', [8.998531341552734]), ('Norm', [1.2289674282073975])]\n",
            "Steps: 050\tScores: [[351.5083312988281]],\tRegularizations: [('TotalVariation2D', [11.668384552001953]), ('Norm', [5.070743560791016])]\n",
            "Steps: 100\tScores: [[344.646728515625]],\tRegularizations: [('TotalVariation2D', [8.731476783752441]), ('Norm', [5.538904190063477])]\n",
            "Steps: 150\tScores: [[467.4554138183594]],\tRegularizations: [('TotalVariation2D', [9.147517204284668]), ('Norm', [6.010669708251953])]\n",
            "Steps: 200\tScores: [[551.5723266601562]],\tRegularizations: [('TotalVariation2D', [13.982817649841309]), ('Norm', [6.501760482788086])]\n",
            "Steps: 050\tScores: [[261.75537109375]],\tRegularizations: [('TotalVariation2D', [9.916759490966797]), ('Norm', [4.271554470062256])]\n",
            "Steps: 100\tScores: [[496.4197082519531]],\tRegularizations: [('TotalVariation2D', [9.525186538696289]), ('Norm', [4.045264720916748])]\n",
            "Steps: 150\tScores: [[484.13018798828125]],\tRegularizations: [('TotalVariation2D', [10.003067016601562]), ('Norm', [3.8256583213806152])]\n",
            "Steps: 200\tScores: [[297.27178955078125]],\tRegularizations: [('TotalVariation2D', [10.002897262573242]), ('Norm', [3.5959360599517822])]\n",
            "Steps: 050\tScores: [[219.36590576171875]],\tRegularizations: [('TotalVariation2D', [8.582687377929688]), ('Norm', [4.453651428222656])]\n",
            "Steps: 100\tScores: [[230.81761169433594]],\tRegularizations: [('TotalVariation2D', [13.779608726501465]), ('Norm', [4.5852789878845215])]\n",
            "Steps: 150\tScores: [[247.3170166015625]],\tRegularizations: [('TotalVariation2D', [8.441125869750977]), ('Norm', [4.663974761962891])]\n",
            "Steps: 200\tScores: [[629.9085083007812]],\tRegularizations: [('TotalVariation2D', [11.04880428314209]), ('Norm', [4.758337020874023])]\n",
            "Steps: 050\tScores: [[394.3072509765625]],\tRegularizations: [('TotalVariation2D', [10.521127700805664]), ('Norm', [4.367208957672119])]\n",
            "Steps: 100\tScores: [[604.5684814453125]],\tRegularizations: [('TotalVariation2D', [12.933323860168457]), ('Norm', [4.125883102416992])]\n",
            "Steps: 150\tScores: [[433.4963073730469]],\tRegularizations: [('TotalVariation2D', [13.770222663879395]), ('Norm', [3.877997636795044])]\n",
            "Steps: 200\tScores: [[361.2879333496094]],\tRegularizations: [('TotalVariation2D', [9.863007545471191]), ('Norm', [3.688662052154541])]\n",
            "Steps: 050\tScores: [[-466.7301940917969]],\tRegularizations: [('TotalVariation2D', [9.691381454467773]), ('Norm', [4.15804386138916])]\n",
            "Steps: 100\tScores: [[-157.5332794189453]],\tRegularizations: [('TotalVariation2D', [8.271005630493164]), ('Norm', [3.5637407302856445])]\n",
            "Steps: 150\tScores: [[-292.8453369140625]],\tRegularizations: [('TotalVariation2D', [8.23291015625]), ('Norm', [2.987156867980957])]\n",
            "Steps: 200\tScores: [[-136.6475372314453]],\tRegularizations: [('TotalVariation2D', [7.41483211517334]), ('Norm', [2.4580416679382324])]\n"
          ],
          "name": "stdout"
        },
        {
          "output_type": "display_data",
          "data": {
            "image/png": "[encoded data removed]",
            "text/plain": [
              "<Figure size 1296x576 with 10 Axes>"
            ]
          },
          "metadata": {
            "tags": [],
            "needs_background": "light"
          }
        }
      ]
    },
    {
      "cell_type": "code",
      "metadata": {
        "id": "GLjJxwG2KzHM"
      },
      "source": [
        ""
      ],
      "execution_count": null,
      "outputs": []
    }
  ]
}