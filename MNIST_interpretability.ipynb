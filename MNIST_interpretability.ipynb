{
  "nbformat": 4,
  "nbformat_minor": 0,
  "metadata": {
    "colab": {
      "name": "MNIST_interpretability.ipynb",
      "provenance": [],
      "toc_visible": true,
      "authorship_tag": "ABX9TyNA80yO4u1t5wGDLk+zucDz",
      "include_colab_link": true
    },
    "kernelspec": {
      "name": "python3",
      "display_name": "Python 3"
    },
    "language_info": {
      "name": "python"
    }
  },
  "cells": [
    {
      "cell_type": "markdown",
      "metadata": {
        "id": "view-in-github",
        "colab_type": "text"
      },
      "source": [
        "<a href=\"https://colab.research.google.com/github/raulbenitez/IWANN21/blob/main/MNIST_interpretability.ipynb\" target=\"_parent\"><img src=\"https://colab.research.google.com/assets/colab-badge.svg\" alt=\"Open In Colab\"/></a>"
      ]
    },
    {
      "cell_type": "code",
      "metadata": {
        "colab": {
          "base_uri": "https://localhost:8080/"
        },
        "id": "zCwLTAMLo8uo",
        "outputId": "15b13ccc-6fed-4978-9117-91c2ffb21b88"
      },
      "source": [
        "from google.colab import drive\n",
        "drive.mount('/content/drive')"
      ],
      "execution_count": 1,
      "outputs": [
        {
          "output_type": "stream",
          "text": [
            "Mounted at /content/drive\n"
          ],
          "name": "stdout"
        }
      ]
    },
    {
      "cell_type": "code",
      "metadata": {
        "colab": {
          "base_uri": "https://localhost:8080/"
        },
        "id": "UC8wLwouhGR8",
        "outputId": "724c3b06-f58c-461e-8eb4-33266b0ada35"
      },
      "source": [
        "import numpy as np\n",
        "import tensorflow as tf\n",
        "\n",
        "from tensorflow.keras.datasets import mnist\n",
        "from tensorflow.keras.models import Sequential, Model\n",
        "from tensorflow.keras.layers import Dense, Dropout, Flatten, Activation, Input\n",
        "from tensorflow.keras.layers import Conv2D, MaxPooling2D\n",
        "from tensorflow.keras import backend as K\n",
        "\n",
        "batch_size = 128\n",
        "num_classes = 10\n",
        "epochs = 5\n",
        "\n",
        "# input image dimensions\n",
        "img_rows, img_cols = 28, 28\n",
        "\n",
        "# the data, shuffled and split between train and test sets\n",
        "(x_train, y_train), (x_test, y_test) = mnist.load_data()\n",
        "\n",
        "if K.image_data_format() == 'channels_first':\n",
        "    x_train = x_train.reshape(x_train.shape[0], 1, img_rows, img_cols)\n",
        "    x_test = x_test.reshape(x_test.shape[0], 1, img_rows, img_cols)\n",
        "    input_shape = (1, img_rows, img_cols)\n",
        "else:\n",
        "    x_train = x_train.reshape(x_train.shape[0], img_rows, img_cols, 1)\n",
        "    x_test = x_test.reshape(x_test.shape[0], img_rows, img_cols, 1)\n",
        "    input_shape = (img_rows, img_cols, 1)\n",
        "\n",
        "x_train = x_train.astype('float32')\n",
        "x_test = x_test.astype('float32')\n",
        "x_train /= 255\n",
        "x_test /= 255\n",
        "print('x_train shape:', x_train.shape)\n",
        "print(x_train.shape[0], 'train samples')\n",
        "print(x_test.shape[0], 'test samples')\n",
        "\n",
        "# convert class vectors to binary class matrices\n",
        "y_train = tf.keras.utils.to_categorical(y_train, num_classes)\n",
        "y_test = tf.keras.utils.to_categorical(y_test, num_classes)"
      ],
      "execution_count": 9,
      "outputs": [
        {
          "output_type": "stream",
          "text": [
            "x_train shape: (60000, 28, 28, 1)\n",
            "60000 train samples\n",
            "10000 test samples\n"
          ],
          "name": "stdout"
        }
      ]
    },
    {
      "cell_type": "code",
      "metadata": {
        "id": "t2S0F2vM_2QE"
      },
      "source": [
        "model = Sequential()\n",
        "model.add(Conv2D(32, kernel_size=(3, 3),\n",
        "                 activation='relu',\n",
        "                 input_shape=input_shape))\n",
        "model.add(Conv2D(64, (3, 3), activation='relu'))\n",
        "model.add(MaxPooling2D(pool_size=(2, 2)))\n",
        "model.add(Dropout(0.25))\n",
        "model.add(Flatten())\n",
        "model.add(Dense(128, activation='relu'))\n",
        "model.add(Dropout(0.5))\n",
        "model.add(Dense(num_classes, activation='softmax', name='preds'))\n",
        "\n",
        "model.compile(loss=keras.losses.categorical_crossentropy,\n",
        "              optimizer=keras.optimizers.Adam(),\n",
        "              metrics=['accuracy'])\n",
        "\n",
        "model.fit(x_train, y_train,\n",
        "          batch_size=batch_size,\n",
        "          epochs=epochs,\n",
        "          verbose=1,\n",
        "          validation_data=(x_test, y_test))\n",
        "\n",
        "score = model.evaluate(x_test, y_test, verbose=0)\n",
        "print('Test loss:', score[0])\n",
        "print('Test accuracy:', score[1])"
      ],
      "execution_count": null,
      "outputs": []
    },
    {
      "cell_type": "code",
      "metadata": {
        "colab": {
          "base_uri": "https://localhost:8080/"
        },
        "id": "UjMTU6dkLthT",
        "outputId": "c1b04046-9d3f-439c-b7fc-5a1ceedc536e"
      },
      "source": [
        "# Create the model\n",
        "model = Sequential()\n",
        "model.add(Conv2D(32, kernel_size=(3, 3), activation='relu', input_shape=input_shape))\n",
        "model.add(MaxPooling2D(pool_size=(2, 2)))\n",
        "model.add(Dropout(0.25))\n",
        "model.add(Flatten())\n",
        "model.add(Dense(256, activation='relu'))\n",
        "model.add(Dense(num_classes, activation='softmax', name='pred'))\n",
        "\n",
        "# Compile the model\n",
        "model.compile(loss=keras.losses.categorical_crossentropy,\n",
        "              optimizer=keras.optimizers.Adam(),\n",
        "              metrics=['accuracy'])\n",
        "\n",
        "batch_size = 250\n",
        "no_epochs = 1\n",
        "# Fit data to model\n",
        "model.fit(x_train, y_train,\n",
        "          batch_size=batch_size,\n",
        "          epochs=no_epochs)\n",
        "\n",
        "score = model.evaluate(x_test, y_test, verbose=0)\n",
        "print(f'Test loss: {score[0]} / Test accuracy: {score[1]}')\n",
        "\n"
      ],
      "execution_count": 162,
      "outputs": [
        {
          "output_type": "stream",
          "text": [
            "240/240 [==============================] - 36s 146ms/step - loss: 0.2585 - accuracy: 0.9268\n",
            "Test loss: 0.09228898584842682 / Test accuracy: 0.9731000065803528\n"
          ],
          "name": "stdout"
        }
      ]
    },
    {
      "cell_type": "code",
      "metadata": {
        "colab": {
          "base_uri": "https://localhost:8080/"
        },
        "id": "k_L-wgzQ-W2Z",
        "outputId": "866ce34f-2bd4-4597-fd1f-057f01632f39"
      },
      "source": [
        "model.summary()"
      ],
      "execution_count": 163,
      "outputs": [
        {
          "output_type": "stream",
          "text": [
            "Model: \"sequential_7\"\n",
            "_________________________________________________________________\n",
            "Layer (type)                 Output Shape              Param #   \n",
            "=================================================================\n",
            "conv2d_7 (Conv2D)            (None, 26, 26, 32)        320       \n",
            "_________________________________________________________________\n",
            "max_pooling2d_6 (MaxPooling2 (None, 13, 13, 32)        0         \n",
            "_________________________________________________________________\n",
            "dropout_7 (Dropout)          (None, 13, 13, 32)        0         \n",
            "_________________________________________________________________\n",
            "flatten_6 (Flatten)          (None, 5408)              0         \n",
            "_________________________________________________________________\n",
            "dense_6 (Dense)              (None, 256)               1384704   \n",
            "_________________________________________________________________\n",
            "pred (Dense)                 (None, 10)                2570      \n",
            "=================================================================\n",
            "Total params: 1,387,594\n",
            "Trainable params: 1,387,594\n",
            "Non-trainable params: 0\n",
            "_________________________________________________________________\n"
          ],
          "name": "stdout"
        }
      ]
    },
    {
      "cell_type": "markdown",
      "metadata": {
        "id": "ka-ONr8T-WAZ"
      },
      "source": [
        "Model summary"
      ]
    },
    {
      "cell_type": "markdown",
      "metadata": {
        "id": "wPrY81LeouSx"
      },
      "source": [
        "Save the weights"
      ]
    },
    {
      "cell_type": "code",
      "metadata": {
        "colab": {
          "base_uri": "https://localhost:8080/"
        },
        "id": "rfHPYBCWovRj",
        "outputId": "b86ea699-0122-47f2-9d45-b03505c18d24"
      },
      "source": [
        "model.save('/content/drive/MyDrive/DL_IWANN_data/MNIST_model_interpretability')"
      ],
      "execution_count": 164,
      "outputs": [
        {
          "output_type": "stream",
          "text": [
            "INFO:tensorflow:Assets written to: /content/drive/MyDrive/DL_IWANN_data/MNIST_model_interpretability/assets\n"
          ],
          "name": "stdout"
        }
      ]
    },
    {
      "cell_type": "markdown",
      "metadata": {
        "id": "WH8CznGmpu4N"
      },
      "source": [
        "Load the saved model"
      ]
    },
    {
      "cell_type": "code",
      "metadata": {
        "id": "e3ISLTfJph0h"
      },
      "source": [
        "import tensorflow as tf\n",
        "model = tf.keras.models.load_model('/content/drive/MyDrive/DL_IWANN_data/MNIST_model_interpretability')"
      ],
      "execution_count": 3,
      "outputs": []
    },
    {
      "cell_type": "markdown",
      "metadata": {
        "id": "nFevqkAswEkT"
      },
      "source": [
        "Check dimensions of all convolutional layers in the architecture"
      ]
    },
    {
      "cell_type": "code",
      "metadata": {
        "colab": {
          "base_uri": "https://localhost:8080/"
        },
        "id": "5EyM19fgwH_Y",
        "outputId": "2c8ada2d-de40-4592-a5da-c1e0b70e7b6a"
      },
      "source": [
        "for layer in model.layers:\n",
        "\tif 'conv' not in layer.name:\n",
        "\t\tcontinue\n",
        "\tfilters, biases = layer.get_weights()\n",
        "\tprint(layer.name, filters.shape)"
      ],
      "execution_count": 4,
      "outputs": [
        {
          "output_type": "stream",
          "text": [
            "conv2d_7 (3, 3, 1, 32)\n"
          ],
          "name": "stdout"
        }
      ]
    },
    {
      "cell_type": "markdown",
      "metadata": {
        "id": "10hwsDL2wNuB"
      },
      "source": [
        "## Visualize filters weights"
      ]
    },
    {
      "cell_type": "code",
      "metadata": {
        "id": "3GpHvGjAwQnz"
      },
      "source": [
        "filters, biases = model.layers[0].get_weights()\n",
        "from matplotlib import pyplot\n",
        "\n",
        "# normalize filter values to 0-1 so we can visualize them\n",
        "f_min, f_max = filters.min(), filters.max()\n",
        "filters = (filters - f_min) / (f_max - f_min)\n",
        "\n",
        "filters.shape\n",
        "filters1 = filters.squeeze()"
      ],
      "execution_count": 5,
      "outputs": []
    },
    {
      "cell_type": "markdown",
      "metadata": {
        "id": "PtWifAz1wyff"
      },
      "source": [
        "In the first convolutional layer there are 32 filters, each of size 3x3\n"
      ]
    },
    {
      "cell_type": "code",
      "metadata": {
        "colab": {
          "base_uri": "https://localhost:8080/",
          "height": 482
        },
        "id": "1E3_bsGNwyoy",
        "outputId": "1b2fb02e-0e7d-431a-c1f3-6dd2b7132282"
      },
      "source": [
        "import matplotlib.pyplot as plt\n",
        "\n",
        "fig = plt.figure(figsize=(18, 8))\n",
        "for kfilt in range(0,32):\n",
        "    ax = fig.add_subplot(4, 8, kfilt+1)\n",
        "    ax.imshow(filters1[:,:,kfilt], cmap='gray') \n",
        "    ax.set_title('Filter = {}'.format(kfilt))\n",
        "    ax.axis('off')"
      ],
      "execution_count": 6,
      "outputs": [
        {
          "output_type": "display_data",
          "data": {
            "image/png": "[encoded data removed]",
            "text/plain": [
              "<Figure size 1296x576 with 32 Axes>"
            ]
          },
          "metadata": {
            "tags": [],
            "needs_background": "light"
          }
        }
      ]
    },
    {
      "cell_type": "markdown",
      "metadata": {
        "id": "wH3O1d0XlUrq"
      },
      "source": [
        "## Vizualize the feature maps \n",
        "\n",
        "Feature maps are the result of projecting an inpunt image across the different convolutional filters in the convolutional layers of the CNN."
      ]
    },
    {
      "cell_type": "code",
      "metadata": {
        "colab": {
          "base_uri": "https://localhost:8080/"
        },
        "id": "bNsP1vssk8q3",
        "outputId": "0d177c5d-5514-4c81-cc25-f6945a29b684"
      },
      "source": [
        "from tensorflow.keras.models import Model\n",
        "\n",
        "# define a new model with outputs the first layer\n",
        "model_feat_layer0  = Model(inputs=model.inputs, outputs=model.layers[0].output)\n",
        "model_feat_layer0.summary()\n",
        "\n",
        "# extract the features provided by the model of the test input\n",
        "feat_test_layer0 = model_feat_layer0.predict(x_test)\n",
        "\n",
        "print('layer 0 shape {}'.format(feat_test_layer0.shape))"
      ],
      "execution_count": 10,
      "outputs": [
        {
          "output_type": "stream",
          "text": [
            "Model: \"model_1\"\n",
            "_________________________________________________________________\n",
            "Layer (type)                 Output Shape              Param #   \n",
            "=================================================================\n",
            "conv2d_7_input (InputLayer)  [(None, 28, 28, 1)]       0         \n",
            "_________________________________________________________________\n",
            "conv2d_7 (Conv2D)            (None, 26, 26, 32)        320       \n",
            "=================================================================\n",
            "Total params: 320\n",
            "Trainable params: 320\n",
            "Non-trainable params: 0\n",
            "_________________________________________________________________\n",
            "layer 0 shape (10000, 26, 26, 32)\n"
          ],
          "name": "stdout"
        }
      ]
    },
    {
      "cell_type": "markdown",
      "metadata": {
        "id": "Mw4XWXd3l1rX"
      },
      "source": [
        "plot the feature maps corresponding to the first image in the test subset, which in this case corresponds to a"
      ]
    },
    {
      "cell_type": "code",
      "metadata": {
        "colab": {
          "base_uri": "https://localhost:8080/"
        },
        "id": "y2eIYyianrNj",
        "outputId": "bc65b31d-e073-475b-9a16-f754b2a8a6b8"
      },
      "source": [
        "np.argmax(y_test[0])"
      ],
      "execution_count": 11,
      "outputs": [
        {
          "output_type": "execute_result",
          "data": {
            "text/plain": [
              "7"
            ]
          },
          "metadata": {
            "tags": []
          },
          "execution_count": 11
        }
      ]
    },
    {
      "cell_type": "code",
      "metadata": {
        "colab": {
          "base_uri": "https://localhost:8080/",
          "height": 482
        },
        "id": "nXmAXF75l7ep",
        "outputId": "722662e7-8aeb-4d43-b8e6-15e4de21df1e"
      },
      "source": [
        "import matplotlib.pyplot as plt\n",
        "\n",
        "fig = plt.figure(figsize=(18, 8))\n",
        "for kfeat in range(0,32):\n",
        "    ax = fig.add_subplot(4, 8, kfeat+1)\n",
        "    ax.imshow(feat_test_layer0[0,:,:,kfeat], cmap='gray') \n",
        "    ax.set_title('Convolution = {}'.format(kfeat))\n",
        "    ax.axis('off')"
      ],
      "execution_count": 12,
      "outputs": [
        {
          "output_type": "display_data",
          "data": {
            "image/png": "[encoded data removed]",
            "text/plain": [
              "<Figure size 1296x576 with 32 Axes>"
            ]
          },
          "metadata": {
            "tags": [],
            "needs_background": "light"
          }
        }
      ]
    },
    {
      "cell_type": "markdown",
      "metadata": {
        "id": "aoufqhwFk9Hv"
      },
      "source": [
        "## Activation Maximization\n",
        "\n",
        "https://raghakot.github.io/keras-vis/visualizations/activation_maximization/\n",
        "\n",
        "Generate an input image that maximizes the filter output activations. i.e., we compute\n",
        "\n",
        "$\\frac{\\partial ActivationMaximizationLoss}{\\partial input}$ \n",
        "\n",
        "and use that estimate to update the input. ActivationMaximization loss simply outputs small values for large filter activations (we are minimizing losses during gradient descent iterations). This allows us to understand what sort of input patterns activate a particular filter. For example, there could be an eye filter that activates for the presence of eye within the input image."
      ]
    },
    {
      "cell_type": "code",
      "metadata": {
        "colab": {
          "base_uri": "https://localhost:8080/"
        },
        "id": "sdK6cIC8AGJ6",
        "outputId": "01946aee-c422-4989-9caf-3417a7ab61d3"
      },
      "source": [
        "!pip install tf-keras-vis"
      ],
      "execution_count": 14,
      "outputs": [
        {
          "output_type": "stream",
          "text": [
            "Collecting tf-keras-vis\n",
            "  Downloading https://files.pythonhosted.org/packages/15/6f/2c42f2a10f739e21fcb7c6afd270b6e66a11283fe6e9e702469592e368d9/tf_keras_vis-0.6.2-py3-none-any.whl\n",
            "Requirement already satisfied: imageio in /usr/local/lib/python3.7/dist-packages (from tf-keras-vis) (2.4.1)\n",
            "Requirement already satisfied: packaging in /usr/local/lib/python3.7/dist-packages (from tf-keras-vis) (20.9)\n",
            "Collecting deprecated\n",
            "  Downloading https://files.pythonhosted.org/packages/fb/73/994edfcba74443146c84b91921fcc269374354118d4f452fb0c54c1cbb12/Deprecated-1.2.12-py2.py3-none-any.whl\n",
            "Requirement already satisfied: scipy in /usr/local/lib/python3.7/dist-packages (from tf-keras-vis) (1.4.1)\n",
            "Requirement already satisfied: pillow in /usr/local/lib/python3.7/dist-packages (from tf-keras-vis) (7.1.2)\n",
            "Requirement already satisfied: numpy in /usr/local/lib/python3.7/dist-packages (from imageio->tf-keras-vis) (1.19.5)\n",
            "Requirement already satisfied: pyparsing>=2.0.2 in /usr/local/lib/python3.7/dist-packages (from packaging->tf-keras-vis) (2.4.7)\n",
            "Requirement already satisfied: wrapt<2,>=1.10 in /usr/local/lib/python3.7/dist-packages (from deprecated->tf-keras-vis) (1.12.1)\n",
            "Installing collected packages: deprecated, tf-keras-vis\n",
            "Successfully installed deprecated-1.2.12 tf-keras-vis-0.6.2\n"
          ],
          "name": "stdout"
        }
      ]
    },
    {
      "cell_type": "markdown",
      "metadata": {
        "id": "-6AKnUA5yfuv"
      },
      "source": [
        "Change final activation layer from softmax to linear.\n",
        "To compute the gradients, it is recommended to change the softmax activation function by\n",
        "a linear function, since with the softmax the maximization of a class can be achieved by\n",
        "minimising the scores of the other classes, and using a linear function we ensure that the\n",
        "optimization concentrates only on the class in question."
      ]
    },
    {
      "cell_type": "code",
      "metadata": {
        "id": "kw6mt-lW9mJi"
      },
      "source": [
        "from tf_keras_vis.activation_maximization import ActivationMaximization\n",
        "\n",
        "def model_modifier(current_model):\n",
        "    current_model.layers[-1].activation = tf.keras.activations.linear\n",
        "    return current_model\n",
        "\n",
        "activation_maximization = ActivationMaximization(model,\n",
        "                                                 model_modifier,\n",
        "                                                 clone=False)"
      ],
      "execution_count": 15,
      "outputs": []
    },
    {
      "cell_type": "markdown",
      "metadata": {
        "id": "oiAkPzFv_kbB"
      },
      "source": [
        "Score function to maximize a certain category"
      ]
    },
    {
      "cell_type": "code",
      "metadata": {
        "id": "2wv3YmSE_lKA"
      },
      "source": [
        "from tf_keras_vis.utils.scores import CategoricalScore\n",
        "\n",
        "class_score = 4\n",
        "score = CategoricalScore(class_score)"
      ],
      "execution_count": 16,
      "outputs": []
    },
    {
      "cell_type": "code",
      "metadata": {
        "colab": {
          "base_uri": "https://localhost:8080/"
        },
        "id": "MxhCHRnl_7X1",
        "outputId": "f7c0c283-7c06-4011-e297-fedcc66c1f1e"
      },
      "source": [
        "from tf_keras_vis.activation_maximization.callbacks import PrintLogger as Logger\n",
        "from tf_keras_vis.activation_maximization.callbacks import GifGenerator2D\n",
        "\n",
        "# Generate maximized activation\n",
        "activations = activation_maximization(score,callbacks=[Logger(interval=50)])"
      ],
      "execution_count": 17,
      "outputs": [
        {
          "output_type": "stream",
          "text": [
            "Steps: 050\tScores: [[-1059.9434814453125]],\tRegularizations: [('TotalVariation2D', [9.7372407913208]), ('Norm', [3.6106507778167725])]\n",
            "Steps: 100\tScores: [[-825.5335083007812]],\tRegularizations: [('TotalVariation2D', [8.76260757446289]), ('Norm', [2.7576277256011963])]\n",
            "Steps: 150\tScores: [[-387.7267761230469]],\tRegularizations: [('TotalVariation2D', [13.967904090881348]), ('Norm', [1.9261133670806885])]\n",
            "Steps: 200\tScores: [[-154.92822265625]],\tRegularizations: [('TotalVariation2D', [9.79117488861084]), ('Norm', [1.1379616260528564])]\n"
          ],
          "name": "stdout"
        }
      ]
    },
    {
      "cell_type": "code",
      "metadata": {
        "colab": {
          "base_uri": "https://localhost:8080/",
          "height": 297
        },
        "id": "tqvIsH0-CiyU",
        "outputId": "345337dc-b5c4-4184-977b-96804eccb8c9"
      },
      "source": [
        "# Visualize \n",
        "class_names = ['zero', 'one', 'two', 'three', 'four', 'five', 'six', 'seven', 'eight', 'nine']\n",
        "\n",
        "f, ax = plt.subplots(figsize=(4, 4))\n",
        "ax.imshow(activations.squeeze())\n",
        "ax.set_title(class_names[class_score], fontsize=16)\n",
        "ax.axis('off')\n",
        "plt.tight_layout()\n",
        "plt.show()"
      ],
      "execution_count": 18,
      "outputs": [
        {
          "output_type": "display_data",
          "data": {
            "image/png": "[encoded data removed]",
            "text/plain": [
              "<Figure size 288x288 with 1 Axes>"
            ]
          },
          "metadata": {
            "tags": [],
            "needs_background": "light"
          }
        }
      ]
    },
    {
      "cell_type": "code",
      "metadata": {
        "colab": {
          "base_uri": "https://localhost:8080/",
          "height": 1000
        },
        "id": "ywB-t2jHJAKq",
        "outputId": "07ef9f31-6c62-4808-bc7e-be54f1add316"
      },
      "source": [
        "fig = plt.figure(figsize=(18, 8))\n",
        "for kclass in range(0,10):\n",
        "    score = CategoricalScore(kclass)\n",
        "    activation_maximization = ActivationMaximization(model,model_modifier,clone=False)\n",
        "    activations = activation_maximization(score,callbacks=[Logger(interval=50)])\n",
        "    ax = fig.add_subplot(2, 5, kclass+1)\n",
        "    ax.imshow(activations.squeeze())\n",
        "    ax.set_title(class_names[kclass], fontsize=16)\n",
        "    ax.axis('off')"
      ],
      "execution_count": 19,
      "outputs": [
        {
          "output_type": "stream",
          "text": [
            "Steps: 050\tScores: [[38.28389358520508]],\tRegularizations: [('TotalVariation2D', [10.126806259155273]), ('Norm', [4.275981903076172])]\n",
            "Steps: 100\tScores: [[-95.20890808105469]],\tRegularizations: [('TotalVariation2D', [10.110061645507812]), ('Norm', [3.9862935543060303])]\n",
            "Steps: 150\tScores: [[93.81599426269531]],\tRegularizations: [('TotalVariation2D', [9.814332962036133]), ('Norm', [3.7382447719573975])]\n",
            "Steps: 200\tScores: [[310.0873718261719]],\tRegularizations: [('TotalVariation2D', [12.053145408630371]), ('Norm', [3.504166841506958])]\n",
            "Steps: 050\tScores: [[-488.204833984375]],\tRegularizations: [('TotalVariation2D', [8.5881929397583]), ('Norm', [4.407853126525879])]\n",
            "Steps: 100\tScores: [[-329.3826599121094]],\tRegularizations: [('TotalVariation2D', [7.879638195037842]), ('Norm', [4.344766616821289])]\n",
            "Steps: 150\tScores: [[-434.4541015625]],\tRegularizations: [('TotalVariation2D', [9.509746551513672]), ('Norm', [4.313152313232422])]\n",
            "Steps: 200\tScores: [[-440.41339111328125]],\tRegularizations: [('TotalVariation2D', [9.141947746276855]), ('Norm', [4.236134052276611])]\n",
            "Steps: 050\tScores: [[647.70849609375]],\tRegularizations: [('TotalVariation2D', [15.866117477416992]), ('Norm', [4.951793670654297])]\n",
            "Steps: 100\tScores: [[237.6487274169922]],\tRegularizations: [('TotalVariation2D', [12.309219360351562]), ('Norm', [5.07643461227417])]\n",
            "Steps: 150\tScores: [[526.6982421875]],\tRegularizations: [('TotalVariation2D', [11.677851676940918]), ('Norm', [5.233044624328613])]\n",
            "Steps: 200\tScores: [[715.3272705078125]],\tRegularizations: [('TotalVariation2D', [11.648371696472168]), ('Norm', [5.428857326507568])]\n",
            "Steps: 050\tScores: [[812.0094604492188]],\tRegularizations: [('TotalVariation2D', [10.69852352142334]), ('Norm', [5.053910732269287])]\n",
            "Steps: 100\tScores: [[780.8989868164062]],\tRegularizations: [('TotalVariation2D', [13.2740478515625]), ('Norm', [5.572918891906738])]\n",
            "Steps: 150\tScores: [[1098.81591796875]],\tRegularizations: [('TotalVariation2D', [12.884167671203613]), ('Norm', [6.042356967926025])]\n",
            "Steps: 200\tScores: [[1232.1611328125]],\tRegularizations: [('TotalVariation2D', [15.081094741821289]), ('Norm', [6.54911470413208])]\n",
            "Steps: 050\tScores: [[-1122.3199462890625]],\tRegularizations: [('TotalVariation2D', [11.079605102539062]), ('Norm', [3.705249786376953])]\n",
            "Steps: 100\tScores: [[-671.553955078125]],\tRegularizations: [('TotalVariation2D', [13.752381324768066]), ('Norm', [2.891862630844116])]\n",
            "Steps: 150\tScores: [[-710.56689453125]],\tRegularizations: [('TotalVariation2D', [9.49916934967041]), ('Norm', [2.032351016998291])]\n",
            "Steps: 200\tScores: [[-353.7401428222656]],\tRegularizations: [('TotalVariation2D', [9.597517013549805]), ('Norm', [1.209948182106018])]\n",
            "Steps: 050\tScores: [[386.5502014160156]],\tRegularizations: [('TotalVariation2D', [11.105034828186035]), ('Norm', [5.013463497161865])]\n",
            "Steps: 100\tScores: [[311.19805908203125]],\tRegularizations: [('TotalVariation2D', [9.240815162658691]), ('Norm', [5.508191108703613])]\n",
            "Steps: 150\tScores: [[424.0267028808594]],\tRegularizations: [('TotalVariation2D', [11.397553443908691]), ('Norm', [5.975744724273682])]\n",
            "Steps: 200\tScores: [[211.83905029296875]],\tRegularizations: [('TotalVariation2D', [12.635089874267578]), ('Norm', [6.472265243530273])]\n",
            "Steps: 050\tScores: [[288.5848693847656]],\tRegularizations: [('TotalVariation2D', [10.790218353271484]), ('Norm', [4.390325546264648])]\n",
            "Steps: 100\tScores: [[602.6102294921875]],\tRegularizations: [('TotalVariation2D', [11.46460247039795]), ('Norm', [4.187589168548584])]\n",
            "Steps: 150\tScores: [[378.5760803222656]],\tRegularizations: [('TotalVariation2D', [10.276144027709961]), ('Norm', [3.9308440685272217])]\n",
            "Steps: 200\tScores: [[313.1998291015625]],\tRegularizations: [('TotalVariation2D', [9.305939674377441]), ('Norm', [3.742063522338867])]\n",
            "Steps: 050\tScores: [[372.4010314941406]],\tRegularizations: [('TotalVariation2D', [9.855941772460938]), ('Norm', [4.668277263641357])]\n",
            "Steps: 100\tScores: [[290.9773864746094]],\tRegularizations: [('TotalVariation2D', [9.965497970581055]), ('Norm', [4.760693073272705])]\n",
            "Steps: 150\tScores: [[188.4651336669922]],\tRegularizations: [('TotalVariation2D', [8.929862976074219]), ('Norm', [4.871285915374756])]\n",
            "Steps: 200\tScores: [[516.546630859375]],\tRegularizations: [('TotalVariation2D', [10.398157119750977]), ('Norm', [5.003635406494141])]\n",
            "Steps: 050\tScores: [[268.92822265625]],\tRegularizations: [('TotalVariation2D', [13.437926292419434]), ('Norm', [4.358220100402832])]\n",
            "Steps: 100\tScores: [[292.280517578125]],\tRegularizations: [('TotalVariation2D', [11.95800495147705]), ('Norm', [4.1348161697387695])]\n",
            "Steps: 150\tScores: [[258.1279602050781]],\tRegularizations: [('TotalVariation2D', [11.517443656921387]), ('Norm', [3.9092929363250732])]\n",
            "Steps: 200\tScores: [[405.2547912597656]],\tRegularizations: [('TotalVariation2D', [9.476007461547852]), ('Norm', [3.672945499420166])]\n",
            "Steps: 050\tScores: [[-466.4910583496094]],\tRegularizations: [('TotalVariation2D', [9.157231330871582]), ('Norm', [3.9083404541015625])]\n",
            "Steps: 100\tScores: [[-535.3361206054688]],\tRegularizations: [('TotalVariation2D', [9.686254501342773]), ('Norm', [3.334156036376953])]\n",
            "Steps: 150\tScores: [[-272.1617126464844]],\tRegularizations: [('TotalVariation2D', [9.734077453613281]), ('Norm', [2.7862741947174072])]\n",
            "Steps: 200\tScores: [[-314.63702392578125]],\tRegularizations: [('TotalVariation2D', [9.112821578979492]), ('Norm', [2.288792848587036])]\n"
          ],
          "name": "stdout"
        },
        {
          "output_type": "display_data",
          "data": {
            "image/png": "[encoded data removed]",
            "text/plain": [
              "<Figure size 1296x576 with 10 Axes>"
            ]
          },
          "metadata": {
            "tags": [],
            "needs_background": "light"
          }
        }
      ]
    },
    {
      "cell_type": "markdown",
      "metadata": {
        "id": "120-xM_aD11V"
      },
      "source": [
        "# Attention maps: Saliency & GradCAM"
      ]
    },
    {
      "cell_type": "code",
      "metadata": {
        "colab": {
          "base_uri": "https://localhost:8080/",
          "height": 499
        },
        "id": "C-nJY7LMDxrT",
        "outputId": "47fe44ee-1ece-40c0-810e-557e0a158226"
      },
      "source": [
        "from tensorflow.keras.preprocessing.image import load_img\n",
        "from tensorflow.keras.applications.vgg16 import preprocess_input\n",
        "\n",
        "# Image titles\n",
        "image_titles = ['seven', 'two', 'one','zero','four','one']\n",
        "\n",
        "# Load images and Convert them to a Numpy array\n",
        "img1 = x_test[0].reshape(28,28)\n",
        "img2 = x_test[1].reshape(28,28)\n",
        "img3 = x_test[2].reshape(28,28)\n",
        "img4 = x_test[3].reshape(28,28)\n",
        "img5 = x_test[4].reshape(28,28)\n",
        "img6 = x_test[5].reshape(28,28)\n",
        "\n",
        "fig = plt.figure(figsize=(18, 8))\n",
        "ax = fig.add_subplot(2, 3, 1)\n",
        "ax.imshow(img1, cmap='gray') \n",
        "ax.set_title('img1:'+ image_titles[0])\n",
        "ax = fig.add_subplot(2, 3, 2)\n",
        "ax.imshow(img2, cmap='gray') \n",
        "ax.set_title('img2:'+ image_titles[1])\n",
        "ax = fig.add_subplot(2,3, 3)\n",
        "ax.imshow(img3, cmap='gray') \n",
        "ax.set_title('img3:' + image_titles[2])\n",
        "ax = fig.add_subplot(2,3, 4)\n",
        "ax.imshow(img4, cmap='gray') \n",
        "ax.set_title('img4:' + image_titles[3])\n",
        "ax = fig.add_subplot(2,3, 5)\n",
        "ax.imshow(img5, cmap='gray') \n",
        "ax.set_title('img5:' + image_titles[4])\n",
        "ax = fig.add_subplot(2,3, 6)\n",
        "ax.imshow(img6, cmap='gray') \n",
        "ax.set_title('img6:' + image_titles[5])\n",
        "ax.axis('off')\n",
        "plt.show()\n",
        "\n"
      ],
      "execution_count": 53,
      "outputs": [
        {
          "output_type": "display_data",
          "data": {
            "image/png": "[encoded data removed]",
            "text/plain": [
              "<Figure size 1296x576 with 6 Axes>"
            ]
          },
          "metadata": {
            "tags": [],
            "needs_background": "light"
          }
        }
      ]
    },
    {
      "cell_type": "markdown",
      "metadata": {
        "id": "FGf0gBvxHRVx"
      },
      "source": [
        "## GradCam"
      ]
    },
    {
      "cell_type": "code",
      "metadata": {
        "colab": {
          "base_uri": "https://localhost:8080/",
          "height": 180
        },
        "id": "rYR9QzAXFC6I",
        "outputId": "0347ca12-c591-4462-f758-24d314624c3e"
      },
      "source": [
        "images = np.asarray([np.array(img1), np.array(img2), np.array(img3),np.array(img4),np.array(img5),np.array(img6)])\n",
        "X = images.reshape(6,28,28,1)\n",
        "\n",
        "score = CategoricalScore([7, 2, 1, 0, 4, 1])\n",
        "\n",
        "from matplotlib import cm\n",
        "from tf_keras_vis.gradcam import Gradcam\n",
        "\n",
        "# Create Gradcam object\n",
        "gradcam = Gradcam(model,\n",
        "                  model_modifier=model_modifier,\n",
        "                  clone=False)\n",
        "\n",
        "# Generate heatmap with GradCAM\n",
        "cam = gradcam(score, X, penultimate_layer=-1)\n",
        "\n",
        "# Render\n",
        "f, ax = plt.subplots(nrows=1, ncols=6, figsize=(12, 4))\n",
        "for i, title in enumerate(image_titles):\n",
        "    heatmap = np.uint8(cm.jet(cam[i])[..., :3] * 255)\n",
        "    ax[i].set_title(title, fontsize=16)\n",
        "    #ax[i].imshow(images[i])\n",
        "    ax[i].imshow(heatmap, cmap='jet', alpha=1) # overlay\n",
        "    ax[i].axis('off')\n",
        "plt.tight_layout()\n",
        "plt.show()\n"
      ],
      "execution_count": 69,
      "outputs": [
        {
          "output_type": "display_data",
          "data": {
            "image/png": "[encoded data removed]",
            "text/plain": [
              "<Figure size 864x288 with 6 Axes>"
            ]
          },
          "metadata": {
            "tags": [],
            "needs_background": "light"
          }
        }
      ]
    },
    {
      "cell_type": "markdown",
      "metadata": {
        "id": "I1ZIdZACHTNH"
      },
      "source": [
        "## GradCam++"
      ]
    },
    {
      "cell_type": "code",
      "metadata": {
        "colab": {
          "base_uri": "https://localhost:8080/",
          "height": 180
        },
        "id": "4zZvgzQQF9T_",
        "outputId": "bd179cf4-a431-4595-c2bb-8fba2b7cafcb"
      },
      "source": [
        "from tf_keras_vis.gradcam import GradcamPlusPlus\n",
        "\n",
        "from matplotlib import cm\n",
        "from tf_keras_vis.gradcam import Gradcam\n",
        "\n",
        "# Create Gradcam++ object\n",
        "\n",
        "# Create GradCAM++ object and repalce class name to \"GradcamPlusPlus\"\n",
        "gradcamplus = GradcamPlusPlus(model,\n",
        "                          model_modifier,\n",
        "                          clone=False)\n",
        "\n",
        "# Generate heatmap with GradCAM\n",
        "camplus = gradcamplus(score, X, penultimate_layer=-1)\n",
        "\n",
        "# Render\n",
        "f, ax = plt.subplots(nrows=1, ncols=6, figsize=(12, 4))\n",
        "for i, title in enumerate(image_titles):\n",
        "    heatmap = np.uint8(cm.jet(camplus[i])[..., :3] * 255)\n",
        "    ax[i].set_title(title, fontsize=16)\n",
        "    #ax[i].imshow(images[i])\n",
        "    ax[i].imshow(heatmap, cmap='jet', alpha=1) # overlay\n",
        "    ax[i].axis('off')\n",
        "plt.tight_layout()\n",
        "plt.show()\n",
        "\n"
      ],
      "execution_count": 68,
      "outputs": [
        {
          "output_type": "display_data",
          "data": {
            "image/png": "[encoded data removed]",
            "text/plain": [
              "<Figure size 864x288 with 6 Axes>"
            ]
          },
          "metadata": {
            "tags": [],
            "needs_background": "light"
          }
        }
      ]
    },
    {
      "cell_type": "markdown",
      "metadata": {
        "id": "tQfU1IdeKiW3"
      },
      "source": [
        "## LIME\n",
        "\n",
        "Local Interpretable Model-agnostic Explanations (LIME) is a revolutionary method\n",
        "proposed in 2016 to explain the predictions of any classifier in a faithful way, by\n",
        "approximating it locally with an interpretable model. The method is called model-agnostic\n",
        "because it is able to explain any model, treating it as a black box and using only its inputs\n",
        "and outputs."
      ]
    },
    {
      "cell_type": "code",
      "metadata": {
        "colab": {
          "base_uri": "https://localhost:8080/"
        },
        "id": "nPTkcCxVK3gd",
        "outputId": "0858aa03-4a20-4cb4-b03f-61932b98b545"
      },
      "source": [
        "!pip install lime"
      ],
      "execution_count": 63,
      "outputs": [
        {
          "output_type": "stream",
          "text": [
            "Collecting lime\n",
            "\u001b[?25l  Downloading https://files.pythonhosted.org/packages/f5/86/91a13127d83d793ecb50eb75e716f76e6eda809b6803c5a4ff462339789e/lime-0.2.0.1.tar.gz (275kB)\n",
            "\u001b[K     |████████████████████████████████| 276kB 2.9MB/s \n",
            "\u001b[?25hRequirement already satisfied: matplotlib in /usr/local/lib/python3.7/dist-packages (from lime) (3.2.2)\n",
            "Requirement already satisfied: numpy in /usr/local/lib/python3.7/dist-packages (from lime) (1.19.5)\n",
            "Requirement already satisfied: scipy in /usr/local/lib/python3.7/dist-packages (from lime) (1.4.1)\n",
            "Requirement already satisfied: tqdm in /usr/local/lib/python3.7/dist-packages (from lime) (4.41.1)\n",
            "Requirement already satisfied: scikit-learn>=0.18 in /usr/local/lib/python3.7/dist-packages (from lime) (0.22.2.post1)\n",
            "Requirement already satisfied: scikit-image>=0.12 in /usr/local/lib/python3.7/dist-packages (from lime) (0.16.2)\n",
            "Requirement already satisfied: cycler>=0.10 in /usr/local/lib/python3.7/dist-packages (from matplotlib->lime) (0.10.0)\n",
            "Requirement already satisfied: pyparsing!=2.0.4,!=2.1.2,!=2.1.6,>=2.0.1 in /usr/local/lib/python3.7/dist-packages (from matplotlib->lime) (2.4.7)\n",
            "Requirement already satisfied: kiwisolver>=1.0.1 in /usr/local/lib/python3.7/dist-packages (from matplotlib->lime) (1.3.1)\n",
            "Requirement already satisfied: python-dateutil>=2.1 in /usr/local/lib/python3.7/dist-packages (from matplotlib->lime) (2.8.1)\n",
            "Requirement already satisfied: joblib>=0.11 in /usr/local/lib/python3.7/dist-packages (from scikit-learn>=0.18->lime) (1.0.1)\n",
            "Requirement already satisfied: pillow>=4.3.0 in /usr/local/lib/python3.7/dist-packages (from scikit-image>=0.12->lime) (7.1.2)\n",
            "Requirement already satisfied: networkx>=2.0 in /usr/local/lib/python3.7/dist-packages (from scikit-image>=0.12->lime) (2.5.1)\n",
            "Requirement already satisfied: imageio>=2.3.0 in /usr/local/lib/python3.7/dist-packages (from scikit-image>=0.12->lime) (2.4.1)\n",
            "Requirement already satisfied: PyWavelets>=0.4.0 in /usr/local/lib/python3.7/dist-packages (from scikit-image>=0.12->lime) (1.1.1)\n",
            "Requirement already satisfied: six in /usr/local/lib/python3.7/dist-packages (from cycler>=0.10->matplotlib->lime) (1.15.0)\n",
            "Requirement already satisfied: decorator<5,>=4.3 in /usr/local/lib/python3.7/dist-packages (from networkx>=2.0->scikit-image>=0.12->lime) (4.4.2)\n",
            "Building wheels for collected packages: lime\n",
            "  Building wheel for lime (setup.py) ... \u001b[?25l\u001b[?25hdone\n",
            "  Created wheel for lime: filename=lime-0.2.0.1-cp37-none-any.whl size=283858 sha256=56195c3e6ee37727c8950f4722fb8458da2429791ec3faa2d853a2921526694e\n",
            "  Stored in directory: /root/.cache/pip/wheels/4c/4f/a5/0bc765457bd41378bf3ce8d17d7495369d6e7ca3b712c60c89\n",
            "Successfully built lime\n",
            "Installing collected packages: lime\n",
            "Successfully installed lime-0.2.0.1\n"
          ],
          "name": "stdout"
        }
      ]
    },
    {
      "cell_type": "code",
      "metadata": {
        "colab": {
          "base_uri": "https://localhost:8080/",
          "height": 368
        },
        "id": "j5nGmIuAHNCH",
        "outputId": "f43da20e-09f1-45c2-e4df-4570fe30f891"
      },
      "source": [
        "from Lime.lime import lime_image\n",
        "from keras.models import load_model\n",
        "from skimage.segmentation import mark_boundaries, quickshift, slic, felzenszwalb\n",
        "\n",
        "image = img1\n",
        "superpixels = quickshift(image, ratio=0.2, kernel_size=6, max_dist=200)\n",
        "num_superpixels = np.unique(superpixels).shape[0]\n",
        "print('Number of superpixels: ' + str(num_superpixels))\n",
        "def segmentation_algorithm(img):\n",
        "#superpixels = slic(img_proc, n_segments=30, compactness=50, sigma=1)\n",
        "#superpixels = quickshift(image, ratio=0.2, kernel_size=6, max_dist=200)\n",
        "  superpixels = felzenszwalb(image, scale=200, sigma=1, min_size=200)\n",
        "  return superpixels\n",
        "\n",
        "seg_alg = segmentation_algorithm\n",
        "explainer = lime_image.LimeImageExplainer(verbose=True, feature_selection = 'lasso_path', random_state=454)\n",
        "explanation = explainer.explain_instance(image, model.predict, top_labels=1, hide_color=167, num_samples=500,num_features=num_superpixels,segmentation_fn=seg_alg, random_seed=42)\n",
        "print('\\n--------------------------------------------')\n",
        "print('\\nNombre de superpixels: %d' % len(np.unique(explanation.segments)))\n",
        "print('Labels ordenats: %s' % explanation.top_labels)\n",
        "print('Score: %f' % explanation.score)\n",
        "num_features=5\n",
        "temp, mask = explanation.get_image_and_mask(explanation.top_labels[0], positive_only=False,\n",
        "num_features=num_features, hide_rest=True)\n",
        "fig, ax = plt.subplots(1,2, figsize=(8,8))\n",
        "ax[0].imshow(image)\n",
        "ax[1].imshow(image)\n",
        "ax[1].imshow(mask, cmap='viridis', alpha=0.7)"
      ],
      "execution_count": 66,
      "outputs": [
        {
          "output_type": "error",
          "ename": "ModuleNotFoundError",
          "evalue": "ignored",
          "traceback": [
            "\u001b[0;31m---------------------------------------------------------------------------\u001b[0m",
            "\u001b[0;31mModuleNotFoundError\u001b[0m                       Traceback (most recent call last)",
            "\u001b[0;32m<ipython-input-66-ccd8d3b384b3>\u001b[0m in \u001b[0;36m<module>\u001b[0;34m()\u001b[0m\n\u001b[0;32m----> 1\u001b[0;31m \u001b[0;32mfrom\u001b[0m \u001b[0mLime\u001b[0m\u001b[0;34m.\u001b[0m\u001b[0mlime\u001b[0m \u001b[0;32mimport\u001b[0m \u001b[0mlime_image\u001b[0m\u001b[0;34m\u001b[0m\u001b[0;34m\u001b[0m\u001b[0m\n\u001b[0m\u001b[1;32m      2\u001b[0m \u001b[0;32mfrom\u001b[0m \u001b[0mkeras\u001b[0m\u001b[0;34m.\u001b[0m\u001b[0mmodels\u001b[0m \u001b[0;32mimport\u001b[0m \u001b[0mload_model\u001b[0m\u001b[0;34m\u001b[0m\u001b[0;34m\u001b[0m\u001b[0m\n\u001b[1;32m      3\u001b[0m \u001b[0;32mfrom\u001b[0m \u001b[0mskimage\u001b[0m\u001b[0;34m.\u001b[0m\u001b[0msegmentation\u001b[0m \u001b[0;32mimport\u001b[0m \u001b[0mmark_boundaries\u001b[0m\u001b[0;34m,\u001b[0m \u001b[0mquickshift\u001b[0m\u001b[0;34m,\u001b[0m \u001b[0mslic\u001b[0m\u001b[0;34m,\u001b[0m \u001b[0mfelzenszwalb\u001b[0m\u001b[0;34m\u001b[0m\u001b[0;34m\u001b[0m\u001b[0m\n\u001b[1;32m      4\u001b[0m \u001b[0;34m\u001b[0m\u001b[0m\n\u001b[1;32m      5\u001b[0m \u001b[0mimage\u001b[0m \u001b[0;34m=\u001b[0m \u001b[0mimg1\u001b[0m\u001b[0;34m\u001b[0m\u001b[0;34m\u001b[0m\u001b[0m\n",
            "\u001b[0;31mModuleNotFoundError\u001b[0m: No module named 'Lime'",
            "",
            "\u001b[0;31m---------------------------------------------------------------------------\u001b[0;32m\nNOTE: If your import is failing due to a missing package, you can\nmanually install dependencies using either !pip or !apt.\n\nTo view examples of installing some common dependencies, click the\n\"Open Examples\" button below.\n\u001b[0;31m---------------------------------------------------------------------------\u001b[0m\n"
          ]
        }
      ]
    },
    {
      "cell_type": "code",
      "metadata": {
        "id": "tPvPYuCjK2NS"
      },
      "source": [
        ""
      ],
      "execution_count": null,
      "outputs": []
    }
  ]
}