{
  "nbformat": 4,
  "nbformat_minor": 0,
  "metadata": {
    "colab": {
      "name": "MNIST_Eigenfaces.ipynb",
      "provenance": [],
      "authorship_tag": "ABX9TyNfMKIdXNY30FVk/MEmGnD8",
      "include_colab_link": true
    },
    "kernelspec": {
      "name": "python3",
      "display_name": "Python 3"
    },
    "language_info": {
      "name": "python"
    }
  },
  "cells": [
    {
      "cell_type": "markdown",
      "metadata": {
        "id": "view-in-github",
        "colab_type": "text"
      },
      "source": [
        "<a href=\"https://colab.research.google.com/github/raulbenitez/IWANN21/blob/main/MNIST_Eigenfaces.ipynb\" target=\"_parent\"><img src=\"https://colab.research.google.com/assets/colab-badge.svg\" alt=\"Open In Colab\"/></a>"
      ]
    },
    {
      "cell_type": "markdown",
      "metadata": {
        "id": "1nKTb-zqSX75"
      },
      "source": [
        "# The Traditional Machine Learning approach:\n",
        "\n",
        "Use PCA to extract features and a simple supervised classifier to classify images"
      ]
    },
    {
      "cell_type": "code",
      "metadata": {
        "colab": {
          "base_uri": "https://localhost:8080/"
        },
        "id": "_4pMm5W5SVN0",
        "outputId": "dee40f6f-5314-4c5f-a580-56a9a9813158"
      },
      "source": [
        "import numpy as np\n",
        "from tensorflow import keras\n",
        "from tensorflow.keras import layers\n",
        "\n",
        "# Model / data parameters\n",
        "num_classes = 10\n",
        "input_shape = (28, 28, 1)\n",
        "\n",
        "# the data, split between train and test sets\n",
        "(x_train, y_train), (x_test, y_test) = keras.datasets.mnist.load_data()\n",
        "\n",
        "# Scale images to the [0, 1] range\n",
        "x_train = x_train.astype(\"float32\") / 255\n",
        "x_test = x_test.astype(\"float32\") / 255\n",
        "# Make sure images have shape (28, 28, 1)\n",
        "x_train = np.expand_dims(x_train, -1)\n",
        "x_test = np.expand_dims(x_test, -1)\n",
        "print(\"x_train shape:\", x_train.shape)\n",
        "print(x_train.shape[0], \"train samples\")\n",
        "print(x_test.shape[0], \"test samples\")\n",
        "\n",
        "\n",
        "# convert class vectors to binary class matrices\n",
        "#y_train = keras.utils.to_categorical(y_train, num_classes)\n",
        "#y_test = keras.utils.to_categorical(y_test, num_classes)"
      ],
      "execution_count": 1,
      "outputs": [
        {
          "output_type": "stream",
          "text": [
            "Downloading data from https://storage.googleapis.com/tensorflow/tf-keras-datasets/mnist.npz\n",
            "11493376/11490434 [==============================] - 0s 0us/step\n",
            "x_train shape: (60000, 28, 28, 1)\n",
            "60000 train samples\n",
            "10000 test samples\n"
          ],
          "name": "stdout"
        }
      ]
    },
    {
      "cell_type": "markdown",
      "metadata": {
        "id": "alg7JfBDSzLO"
      },
      "source": [
        "PCA to explain 95% of the variance in the training set:"
      ]
    },
    {
      "cell_type": "code",
      "metadata": {
        "colab": {
          "base_uri": "https://localhost:8080/",
          "height": 625
        },
        "id": "EMZk7PiTSt4n",
        "outputId": "d6d44825-ece8-414e-9994-1eb74b1c879d"
      },
      "source": [
        "from sklearn.preprocessing import StandardScaler\n",
        "from sklearn.decomposition import PCA\n",
        "import seaborn as sns\n",
        "import matplotlib.pyplot as plt\n",
        "\n",
        "\n",
        "# Reshape as NOBSERVATIONS x NPIXELS:\n",
        "train = x_train.reshape(x_train.shape[0],x_train.shape[1]*x_train.shape[2])\n",
        "test = x_test.reshape(x_test.shape[0],x_test.shape[1]*x_test.shape[2])\n",
        "\n",
        "\n",
        "# Scale (Standardization)\n",
        "train = StandardScaler().fit_transform(train)\n",
        "test = StandardScaler().fit_transform(test)\n",
        "\n",
        "pca_full = PCA(n_components=test.shape[1])\n",
        "pca_full.fit(train)\n",
        "\n",
        "cummulative_variance = pca_full.explained_variance_ratio_.cumsum()\n",
        "\n",
        "# Find number of components needed to explain 95% of variance:\n",
        "ind= np.argwhere(cummulative_variance>0.95)\n",
        "Ncomponents_95 = ind[0].item()\n",
        "\n",
        "fig = plt.figure(figsize=(7,7))\n",
        "plt.plot(cummulative_variance)\n",
        "plt.axvline(Ncomponents_95,c='r')\n",
        "plt.title('{} PCA components are needed to explain 95% of variance'.format(Ncomponents_95))\n",
        "plt.show()\n",
        "\n",
        "# GET PCA FEATURES PROJECTING TO THE PCA SPACE:\n",
        "pca95 = PCA(n_components=Ncomponents_95)\n",
        "pca_train = pca95.fit_transform(train)\n",
        "pca_test = pca95.fit_transform(test)\n",
        "\n",
        "print('The PCA training set has dimensions {} {}'.format(*pca_train.shape))"
      ],
      "execution_count": 8,
      "outputs": [
        {
          "output_type": "display_data",
          "data": {
            "image/png": "[encoded data removed]",
            "text/plain": [
              "<Figure size 504x504 with 1 Axes>"
            ]
          },
          "metadata": {
            "tags": [],
            "needs_background": "light"
          }
        },
        {
          "output_type": "error",
          "ename": "IndexError",
          "evalue": "ignored",
          "traceback": [
            "\u001b[0;31m---------------------------------------------------------------------------\u001b[0m",
            "\u001b[0;31mIndexError\u001b[0m                                Traceback (most recent call last)",
            "\u001b[0;32m<ipython-input-8-3f66f2143e2a>\u001b[0m in \u001b[0;36m<module>\u001b[0;34m()\u001b[0m\n\u001b[1;32m     34\u001b[0m \u001b[0mpca_test\u001b[0m \u001b[0;34m=\u001b[0m \u001b[0mpca95\u001b[0m\u001b[0;34m.\u001b[0m\u001b[0mfit_transform\u001b[0m\u001b[0;34m(\u001b[0m\u001b[0mtest\u001b[0m\u001b[0;34m)\u001b[0m\u001b[0;34m\u001b[0m\u001b[0;34m\u001b[0m\u001b[0m\n\u001b[1;32m     35\u001b[0m \u001b[0;34m\u001b[0m\u001b[0m\n\u001b[0;32m---> 36\u001b[0;31m \u001b[0mprint\u001b[0m\u001b[0;34m(\u001b[0m\u001b[0;34m'The PCA training set has dimensions {} {}'\u001b[0m\u001b[0;34m.\u001b[0m\u001b[0mformat\u001b[0m\u001b[0;34m(\u001b[0m\u001b[0mpca_train\u001b[0m\u001b[0;34m.\u001b[0m\u001b[0mshape\u001b[0m\u001b[0;34m)\u001b[0m\u001b[0;34m)\u001b[0m\u001b[0;34m\u001b[0m\u001b[0;34m\u001b[0m\u001b[0m\n\u001b[0m",
            "\u001b[0;31mIndexError\u001b[0m: tuple index out of range"
          ]
        }
      ]
    },
    {
      "cell_type": "markdown",
      "metadata": {
        "id": "2tVAkrCtUi5a"
      },
      "source": [
        "# Fit a kNN classifier using PCA features:"
      ]
    },
    {
      "cell_type": "code",
      "metadata": {
        "colab": {
          "base_uri": "https://localhost:8080/",
          "height": 371
        },
        "id": "9pQLK3nXULBt",
        "outputId": "c190f347-6b8d-4711-c541-96c16d73a2ac"
      },
      "source": [
        "from sklearn.metrics import confusion_matrix\n",
        "from sklearn.neighbors import KNeighborsClassifier\n",
        "\n",
        "knn = KNeighborsClassifier(n_neighbors=2)\n",
        "\n",
        "knn.fit(pca_train,y_train)\n",
        "\n",
        "y_test_pred = knn.predict(pca_test)"
      ],
      "execution_count": 14,
      "outputs": [
        {
          "output_type": "stream",
          "text": [
            "/usr/local/lib/python3.7/dist-packages/sklearn/metrics/_classification.py:276: FutureWarning: elementwise comparison failed; returning scalar instead, but in the future will perform elementwise comparison\n",
            "  if np.all([l not in y_true for l in labels]):\n"
          ],
          "name": "stderr"
        },
        {
          "output_type": "error",
          "ename": "ValueError",
          "evalue": "ignored",
          "traceback": [
            "\u001b[0;31m---------------------------------------------------------------------------\u001b[0m",
            "\u001b[0;31mValueError\u001b[0m                                Traceback (most recent call last)",
            "\u001b[0;32m<ipython-input-14-e36d2de8e0e2>\u001b[0m in \u001b[0;36m<module>\u001b[0;34m()\u001b[0m\n\u001b[1;32m      9\u001b[0m \u001b[0;34m\u001b[0m\u001b[0m\n\u001b[1;32m     10\u001b[0m \u001b[0mlabel_names\u001b[0m \u001b[0;34m=\u001b[0m \u001b[0;34m[\u001b[0m\u001b[0;34m'zero'\u001b[0m\u001b[0;34m,\u001b[0m \u001b[0;34m'one'\u001b[0m\u001b[0;34m,\u001b[0m \u001b[0;34m'two'\u001b[0m\u001b[0;34m,\u001b[0m \u001b[0;34m'three'\u001b[0m\u001b[0;34m,\u001b[0m \u001b[0;34m'four'\u001b[0m\u001b[0;34m,\u001b[0m \u001b[0;34m'five'\u001b[0m\u001b[0;34m,\u001b[0m \u001b[0;34m'six'\u001b[0m\u001b[0;34m,\u001b[0m \u001b[0;34m'seven'\u001b[0m\u001b[0;34m,\u001b[0m \u001b[0;34m'eight'\u001b[0m\u001b[0;34m,\u001b[0m \u001b[0;34m'nine'\u001b[0m\u001b[0;34m]\u001b[0m\u001b[0;34m\u001b[0m\u001b[0;34m\u001b[0m\u001b[0m\n\u001b[0;32m---> 11\u001b[0;31m \u001b[0mconfusion_matrix\u001b[0m\u001b[0;34m(\u001b[0m\u001b[0my_test\u001b[0m\u001b[0;34m,\u001b[0m \u001b[0my_test_pred\u001b[0m\u001b[0;34m,\u001b[0m \u001b[0mlabels\u001b[0m\u001b[0;34m=\u001b[0m\u001b[0mlabel_names\u001b[0m\u001b[0;34m)\u001b[0m\u001b[0;34m\u001b[0m\u001b[0;34m\u001b[0m\u001b[0m\n\u001b[0m",
            "\u001b[0;32m/usr/local/lib/python3.7/dist-packages/sklearn/metrics/_classification.py\u001b[0m in \u001b[0;36mconfusion_matrix\u001b[0;34m(y_true, y_pred, labels, sample_weight, normalize)\u001b[0m\n\u001b[1;32m    275\u001b[0m         \u001b[0mlabels\u001b[0m \u001b[0;34m=\u001b[0m \u001b[0mnp\u001b[0m\u001b[0;34m.\u001b[0m\u001b[0masarray\u001b[0m\u001b[0;34m(\u001b[0m\u001b[0mlabels\u001b[0m\u001b[0;34m)\u001b[0m\u001b[0;34m\u001b[0m\u001b[0;34m\u001b[0m\u001b[0m\n\u001b[1;32m    276\u001b[0m         \u001b[0;32mif\u001b[0m \u001b[0mnp\u001b[0m\u001b[0;34m.\u001b[0m\u001b[0mall\u001b[0m\u001b[0;34m(\u001b[0m\u001b[0;34m[\u001b[0m\u001b[0ml\u001b[0m \u001b[0;32mnot\u001b[0m \u001b[0;32min\u001b[0m \u001b[0my_true\u001b[0m \u001b[0;32mfor\u001b[0m \u001b[0ml\u001b[0m \u001b[0;32min\u001b[0m \u001b[0mlabels\u001b[0m\u001b[0;34m]\u001b[0m\u001b[0;34m)\u001b[0m\u001b[0;34m:\u001b[0m\u001b[0;34m\u001b[0m\u001b[0;34m\u001b[0m\u001b[0m\n\u001b[0;32m--> 277\u001b[0;31m             \u001b[0;32mraise\u001b[0m \u001b[0mValueError\u001b[0m\u001b[0;34m(\u001b[0m\u001b[0;34m\"At least one label specified must be in y_true\"\u001b[0m\u001b[0;34m)\u001b[0m\u001b[0;34m\u001b[0m\u001b[0;34m\u001b[0m\u001b[0m\n\u001b[0m\u001b[1;32m    278\u001b[0m \u001b[0;34m\u001b[0m\u001b[0m\n\u001b[1;32m    279\u001b[0m     \u001b[0;32mif\u001b[0m \u001b[0msample_weight\u001b[0m \u001b[0;32mis\u001b[0m \u001b[0;32mNone\u001b[0m\u001b[0;34m:\u001b[0m\u001b[0;34m\u001b[0m\u001b[0;34m\u001b[0m\u001b[0m\n",
            "\u001b[0;31mValueError\u001b[0m: At least one label specified must be in y_true"
          ]
        }
      ]
    },
    {
      "cell_type": "code",
      "metadata": {
        "colab": {
          "base_uri": "https://localhost:8080/"
        },
        "id": "I_a6NFYjU_1V",
        "outputId": "dc613a09-2da6-4856-c8bf-65c6131a1773"
      },
      "source": [
        "confusion_matrix(y_test, y_test_pred)"
      ],
      "execution_count": 15,
      "outputs": [
        {
          "output_type": "execute_result",
          "data": {
            "text/plain": [
              "array([[ 741,   11,   14,   50,   32,   57,   15,    5,   24,   31],\n",
              "       [  11, 1097,    2,    3,    8,    4,    2,    3,    2,    3],\n",
              "       [ 122,  151,  295,   53,  195,   15,   98,   10,   82,   11],\n",
              "       [ 104,  116,  100,  403,   13,  113,    7,    8,  143,    3],\n",
              "       [  33,   45,   28,   16,  556,   14,   11,   65,   71,  143],\n",
              "       [  77,  102,   53,  204,   49,  182,   11,   91,  104,   19],\n",
              "       [ 141,   33,   56,   15,   92,   39,  561,    4,   14,    3],\n",
              "       [   3,  134,   38,   95,  126,   13,    3,  487,   33,   96],\n",
              "       [  48,   43,   64,  315,  122,   59,    3,   33,  195,   92],\n",
              "       [  12,   21,   28,   24,  415,   76,    1,  225,   31,  176]])"
            ]
          },
          "metadata": {
            "tags": []
          },
          "execution_count": 15
        }
      ]
    },
    {
      "cell_type": "code",
      "metadata": {
        "colab": {
          "base_uri": "https://localhost:8080/"
        },
        "id": "XD0syw8mtzhM",
        "outputId": "e1c50959-5da7-4241-a4ce-4fa25d124456"
      },
      "source": [
        "from sklearn.metrics import classification_report\n",
        "\n",
        "label_names = ['zero', 'one', 'two', 'three', 'four', 'five', 'six', 'seven', 'eight', 'nine']\n",
        "print(classification_report(y_test, y_test_pred, target_names=label_names))"
      ],
      "execution_count": 17,
      "outputs": [
        {
          "output_type": "stream",
          "text": [
            "              precision    recall  f1-score   support\n",
            "\n",
            "        zero       0.57      0.76      0.65       980\n",
            "         one       0.63      0.97      0.76      1135\n",
            "         two       0.44      0.29      0.35      1032\n",
            "       three       0.34      0.40      0.37      1010\n",
            "        four       0.35      0.57      0.43       982\n",
            "        five       0.32      0.20      0.25       892\n",
            "         six       0.79      0.59      0.67       958\n",
            "       seven       0.52      0.47      0.50      1028\n",
            "       eight       0.28      0.20      0.23       974\n",
            "        nine       0.31      0.17      0.22      1009\n",
            "\n",
            "    accuracy                           0.47     10000\n",
            "   macro avg       0.45      0.46      0.44     10000\n",
            "weighted avg       0.46      0.47      0.45     10000\n",
            "\n"
          ],
          "name": "stdout"
        }
      ]
    },
    {
      "cell_type": "code",
      "metadata": {
        "id": "QPAXc5t8t_tG"
      },
      "source": [
        ""
      ],
      "execution_count": null,
      "outputs": []
    }
  ]
}